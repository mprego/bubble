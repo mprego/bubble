{
 "cells": [
  {
   "cell_type": "markdown",
   "metadata": {},
   "source": [
    "# 2. Analysis of Player Changes\n",
    "\n",
    "Looks at which players had the largest change in their role and performance in the bubble.\n",
    "\n",
    "Will look at these from a few angles:\n",
    "    1. Increase in key metrics\n",
    "    2. Anomaly detection based on changes in metrics"
   ]
  },
  {
   "cell_type": "code",
   "execution_count": 1,
   "metadata": {},
   "outputs": [],
   "source": [
    "import pandas as pd\n",
    "import numpy as np\n",
    "import datetime\n",
    "import matplotlib.pyplot as plt"
   ]
  },
  {
   "cell_type": "markdown",
   "metadata": {},
   "source": [
    "## Read in and Manipulate Data"
   ]
  },
  {
   "cell_type": "code",
   "execution_count": 2,
   "metadata": {},
   "outputs": [],
   "source": [
    "# Read in data\n",
    "schedule = pd.read_csv('data/schedule_2020.csv')\n",
    "# team_perf = pd.read_csv('data/team_perf_2020.csv')\n",
    "player_info = pd.read_csv('data/players_2020.csv')\n",
    "player_perf = pd.read_csv('data/player_perf_2020.csv')"
   ]
  },
  {
   "cell_type": "code",
   "execution_count": 3,
   "metadata": {},
   "outputs": [],
   "source": [
    "# convert date to date type\n",
    "schedule['Date'] = pd.to_datetime(schedule['Date'])\n",
    "player_perf['Date'] = pd.to_datetime(player_perf['Date'])"
   ]
  },
  {
   "cell_type": "code",
   "execution_count": 4,
   "metadata": {},
   "outputs": [],
   "source": [
    "# separate home and visitor teams in schedule\n",
    "schedule_h = schedule.rename(columns={'Visitor Team':'Opposing Team', 'Visitor Points':'Opposing Points', 'Home Team':'Team', 'Home Points':'Points'})\n",
    "schedule_a = schedule.rename(columns={'Visitor Team':'Team', 'Visitor Points':'Points', 'Home Team':'Opposing Team', 'Home Points':'Opposing Points'})\n",
    "schedule_sep = schedule_h.append(schedule_a).reset_index(drop=True)"
   ]
  },
  {
   "cell_type": "code",
   "execution_count": 5,
   "metadata": {},
   "outputs": [],
   "source": [
    "# join to player performance\n",
    "player_perf_team = pd.merge(schedule_sep, player_perf, on=['Date', 'Team'], validate='1:m', suffixes=['', '_copy'])"
   ]
  },
  {
   "cell_type": "code",
   "execution_count": 6,
   "metadata": {
    "scrolled": true
   },
   "outputs": [
    {
     "data": {
      "text/html": [
       "<div>\n",
       "<style scoped>\n",
       "    .dataframe tbody tr th:only-of-type {\n",
       "        vertical-align: middle;\n",
       "    }\n",
       "\n",
       "    .dataframe tbody tr th {\n",
       "        vertical-align: top;\n",
       "    }\n",
       "\n",
       "    .dataframe thead th {\n",
       "        text-align: right;\n",
       "    }\n",
       "</style>\n",
       "<table border=\"1\" class=\"dataframe\">\n",
       "  <thead>\n",
       "    <tr style=\"text-align: right;\">\n",
       "      <th></th>\n",
       "      <th>Date</th>\n",
       "      <th>Time</th>\n",
       "      <th>Opposing Team</th>\n",
       "      <th>Opposing Points</th>\n",
       "      <th>Team</th>\n",
       "      <th>Points</th>\n",
       "      <th>Box Score</th>\n",
       "      <th>OT</th>\n",
       "      <th>Notes</th>\n",
       "      <th>bubble</th>\n",
       "      <th>...</th>\n",
       "      <th>Player</th>\n",
       "      <th>STL</th>\n",
       "      <th>STLP</th>\n",
       "      <th>TOV</th>\n",
       "      <th>TOVP</th>\n",
       "      <th>TRB</th>\n",
       "      <th>TRBP</th>\n",
       "      <th>TSP</th>\n",
       "      <th>Time_copy</th>\n",
       "      <th>USGP</th>\n",
       "    </tr>\n",
       "  </thead>\n",
       "  <tbody>\n",
       "    <tr>\n",
       "      <th>0</th>\n",
       "      <td>2019-10-22</td>\n",
       "      <td>800</td>\n",
       "      <td>New Orleans Pelicans</td>\n",
       "      <td>122</td>\n",
       "      <td>Toronto Raptors</td>\n",
       "      <td>130</td>\n",
       "      <td>www.basketball-reference.com/boxscores/2019102...</td>\n",
       "      <td>OT</td>\n",
       "      <td>NaN</td>\n",
       "      <td>0</td>\n",
       "      <td>...</td>\n",
       "      <td>Kyle Lowry</td>\n",
       "      <td>2</td>\n",
       "      <td>2.1</td>\n",
       "      <td>4</td>\n",
       "      <td>16.2</td>\n",
       "      <td>5</td>\n",
       "      <td>5.4</td>\n",
       "      <td>0.531</td>\n",
       "      <td>NaN</td>\n",
       "      <td>21.5</td>\n",
       "    </tr>\n",
       "    <tr>\n",
       "      <th>1</th>\n",
       "      <td>2019-10-22</td>\n",
       "      <td>800</td>\n",
       "      <td>New Orleans Pelicans</td>\n",
       "      <td>122</td>\n",
       "      <td>Toronto Raptors</td>\n",
       "      <td>130</td>\n",
       "      <td>www.basketball-reference.com/boxscores/2019102...</td>\n",
       "      <td>OT</td>\n",
       "      <td>NaN</td>\n",
       "      <td>0</td>\n",
       "      <td>...</td>\n",
       "      <td>Fred VanVleet</td>\n",
       "      <td>2</td>\n",
       "      <td>2.1</td>\n",
       "      <td>2</td>\n",
       "      <td>8.8</td>\n",
       "      <td>5</td>\n",
       "      <td>5.4</td>\n",
       "      <td>0.824</td>\n",
       "      <td>NaN</td>\n",
       "      <td>19.9</td>\n",
       "    </tr>\n",
       "    <tr>\n",
       "      <th>2</th>\n",
       "      <td>2019-10-22</td>\n",
       "      <td>800</td>\n",
       "      <td>New Orleans Pelicans</td>\n",
       "      <td>122</td>\n",
       "      <td>Toronto Raptors</td>\n",
       "      <td>130</td>\n",
       "      <td>www.basketball-reference.com/boxscores/2019102...</td>\n",
       "      <td>OT</td>\n",
       "      <td>NaN</td>\n",
       "      <td>0</td>\n",
       "      <td>...</td>\n",
       "      <td>Pascal Siakam</td>\n",
       "      <td>0</td>\n",
       "      <td>0.0</td>\n",
       "      <td>4</td>\n",
       "      <td>11.5</td>\n",
       "      <td>18</td>\n",
       "      <td>22.7</td>\n",
       "      <td>0.551</td>\n",
       "      <td>NaN</td>\n",
       "      <td>35.7</td>\n",
       "    </tr>\n",
       "    <tr>\n",
       "      <th>3</th>\n",
       "      <td>2019-10-22</td>\n",
       "      <td>800</td>\n",
       "      <td>New Orleans Pelicans</td>\n",
       "      <td>122</td>\n",
       "      <td>Toronto Raptors</td>\n",
       "      <td>130</td>\n",
       "      <td>www.basketball-reference.com/boxscores/2019102...</td>\n",
       "      <td>OT</td>\n",
       "      <td>NaN</td>\n",
       "      <td>0</td>\n",
       "      <td>...</td>\n",
       "      <td>OG Anunoby</td>\n",
       "      <td>0</td>\n",
       "      <td>0.0</td>\n",
       "      <td>1</td>\n",
       "      <td>7.4</td>\n",
       "      <td>7</td>\n",
       "      <td>9.4</td>\n",
       "      <td>0.442</td>\n",
       "      <td>NaN</td>\n",
       "      <td>14.7</td>\n",
       "    </tr>\n",
       "    <tr>\n",
       "      <th>4</th>\n",
       "      <td>2019-10-22</td>\n",
       "      <td>800</td>\n",
       "      <td>New Orleans Pelicans</td>\n",
       "      <td>122</td>\n",
       "      <td>Toronto Raptors</td>\n",
       "      <td>130</td>\n",
       "      <td>www.basketball-reference.com/boxscores/2019102...</td>\n",
       "      <td>OT</td>\n",
       "      <td>NaN</td>\n",
       "      <td>0</td>\n",
       "      <td>...</td>\n",
       "      <td>Marc Gasol</td>\n",
       "      <td>0</td>\n",
       "      <td>0.0</td>\n",
       "      <td>0</td>\n",
       "      <td>0.0</td>\n",
       "      <td>4</td>\n",
       "      <td>6.0</td>\n",
       "      <td>0.318</td>\n",
       "      <td>NaN</td>\n",
       "      <td>11.6</td>\n",
       "    </tr>\n",
       "    <tr>\n",
       "      <th>...</th>\n",
       "      <td>...</td>\n",
       "      <td>...</td>\n",
       "      <td>...</td>\n",
       "      <td>...</td>\n",
       "      <td>...</td>\n",
       "      <td>...</td>\n",
       "      <td>...</td>\n",
       "      <td>...</td>\n",
       "      <td>...</td>\n",
       "      <td>...</td>\n",
       "      <td>...</td>\n",
       "      <td>...</td>\n",
       "      <td>...</td>\n",
       "      <td>...</td>\n",
       "      <td>...</td>\n",
       "      <td>...</td>\n",
       "      <td>...</td>\n",
       "      <td>...</td>\n",
       "      <td>...</td>\n",
       "      <td>...</td>\n",
       "      <td>...</td>\n",
       "    </tr>\n",
       "    <tr>\n",
       "      <th>27752</th>\n",
       "      <td>2020-08-31</td>\n",
       "      <td>900</td>\n",
       "      <td>Oklahoma City Thunder</td>\n",
       "      <td>104</td>\n",
       "      <td>Houston Rockets</td>\n",
       "      <td>100</td>\n",
       "      <td>www.basketball-reference.com/boxscores/2020083...</td>\n",
       "      <td>NaN</td>\n",
       "      <td>NaN</td>\n",
       "      <td>1</td>\n",
       "      <td>...</td>\n",
       "      <td>Ben McLemore</td>\n",
       "      <td>0</td>\n",
       "      <td>0.0</td>\n",
       "      <td>0</td>\n",
       "      <td>NaN</td>\n",
       "      <td>0</td>\n",
       "      <td>0.0</td>\n",
       "      <td>NaN</td>\n",
       "      <td>NaN</td>\n",
       "      <td>0.0</td>\n",
       "    </tr>\n",
       "    <tr>\n",
       "      <th>27753</th>\n",
       "      <td>2020-08-31</td>\n",
       "      <td>900</td>\n",
       "      <td>Oklahoma City Thunder</td>\n",
       "      <td>104</td>\n",
       "      <td>Houston Rockets</td>\n",
       "      <td>100</td>\n",
       "      <td>www.basketball-reference.com/boxscores/2020083...</td>\n",
       "      <td>NaN</td>\n",
       "      <td>NaN</td>\n",
       "      <td>1</td>\n",
       "      <td>...</td>\n",
       "      <td>Bruno Caboclo</td>\n",
       "      <td>0</td>\n",
       "      <td>0.0</td>\n",
       "      <td>0</td>\n",
       "      <td>0.0</td>\n",
       "      <td>0</td>\n",
       "      <td>0.0</td>\n",
       "      <td>0.000</td>\n",
       "      <td>NaN</td>\n",
       "      <td>0.0</td>\n",
       "    </tr>\n",
       "    <tr>\n",
       "      <th>27754</th>\n",
       "      <td>2020-08-31</td>\n",
       "      <td>900</td>\n",
       "      <td>Oklahoma City Thunder</td>\n",
       "      <td>104</td>\n",
       "      <td>Houston Rockets</td>\n",
       "      <td>100</td>\n",
       "      <td>www.basketball-reference.com/boxscores/2020083...</td>\n",
       "      <td>NaN</td>\n",
       "      <td>NaN</td>\n",
       "      <td>1</td>\n",
       "      <td>...</td>\n",
       "      <td>Tyson Chandler</td>\n",
       "      <td>0</td>\n",
       "      <td>0.0</td>\n",
       "      <td>0</td>\n",
       "      <td>0.0</td>\n",
       "      <td>0</td>\n",
       "      <td>0.0</td>\n",
       "      <td>0.000</td>\n",
       "      <td>NaN</td>\n",
       "      <td>0.0</td>\n",
       "    </tr>\n",
       "    <tr>\n",
       "      <th>27755</th>\n",
       "      <td>2020-08-31</td>\n",
       "      <td>900</td>\n",
       "      <td>Oklahoma City Thunder</td>\n",
       "      <td>104</td>\n",
       "      <td>Houston Rockets</td>\n",
       "      <td>100</td>\n",
       "      <td>www.basketball-reference.com/boxscores/2020083...</td>\n",
       "      <td>NaN</td>\n",
       "      <td>NaN</td>\n",
       "      <td>1</td>\n",
       "      <td>...</td>\n",
       "      <td>Michael Frazier</td>\n",
       "      <td>0</td>\n",
       "      <td>0.0</td>\n",
       "      <td>0</td>\n",
       "      <td>0.0</td>\n",
       "      <td>0</td>\n",
       "      <td>0.0</td>\n",
       "      <td>0.000</td>\n",
       "      <td>NaN</td>\n",
       "      <td>0.0</td>\n",
       "    </tr>\n",
       "    <tr>\n",
       "      <th>27756</th>\n",
       "      <td>2020-08-31</td>\n",
       "      <td>900</td>\n",
       "      <td>Oklahoma City Thunder</td>\n",
       "      <td>104</td>\n",
       "      <td>Houston Rockets</td>\n",
       "      <td>100</td>\n",
       "      <td>www.basketball-reference.com/boxscores/2020083...</td>\n",
       "      <td>NaN</td>\n",
       "      <td>NaN</td>\n",
       "      <td>1</td>\n",
       "      <td>...</td>\n",
       "      <td>DeMarre Carroll</td>\n",
       "      <td>0</td>\n",
       "      <td>0.0</td>\n",
       "      <td>0</td>\n",
       "      <td>0.0</td>\n",
       "      <td>0</td>\n",
       "      <td>0.0</td>\n",
       "      <td>0.000</td>\n",
       "      <td>NaN</td>\n",
       "      <td>0.0</td>\n",
       "    </tr>\n",
       "  </tbody>\n",
       "</table>\n",
       "<p>27757 rows × 50 columns</p>\n",
       "</div>"
      ],
      "text/plain": [
       "            Date  Time          Opposing Team  Opposing Points  \\\n",
       "0     2019-10-22   800   New Orleans Pelicans              122   \n",
       "1     2019-10-22   800   New Orleans Pelicans              122   \n",
       "2     2019-10-22   800   New Orleans Pelicans              122   \n",
       "3     2019-10-22   800   New Orleans Pelicans              122   \n",
       "4     2019-10-22   800   New Orleans Pelicans              122   \n",
       "...          ...   ...                    ...              ...   \n",
       "27752 2020-08-31   900  Oklahoma City Thunder              104   \n",
       "27753 2020-08-31   900  Oklahoma City Thunder              104   \n",
       "27754 2020-08-31   900  Oklahoma City Thunder              104   \n",
       "27755 2020-08-31   900  Oklahoma City Thunder              104   \n",
       "27756 2020-08-31   900  Oklahoma City Thunder              104   \n",
       "\n",
       "                  Team  Points  \\\n",
       "0      Toronto Raptors     130   \n",
       "1      Toronto Raptors     130   \n",
       "2      Toronto Raptors     130   \n",
       "3      Toronto Raptors     130   \n",
       "4      Toronto Raptors     130   \n",
       "...                ...     ...   \n",
       "27752  Houston Rockets     100   \n",
       "27753  Houston Rockets     100   \n",
       "27754  Houston Rockets     100   \n",
       "27755  Houston Rockets     100   \n",
       "27756  Houston Rockets     100   \n",
       "\n",
       "                                               Box Score   OT Notes  bubble  \\\n",
       "0      www.basketball-reference.com/boxscores/2019102...   OT   NaN       0   \n",
       "1      www.basketball-reference.com/boxscores/2019102...   OT   NaN       0   \n",
       "2      www.basketball-reference.com/boxscores/2019102...   OT   NaN       0   \n",
       "3      www.basketball-reference.com/boxscores/2019102...   OT   NaN       0   \n",
       "4      www.basketball-reference.com/boxscores/2019102...   OT   NaN       0   \n",
       "...                                                  ...  ...   ...     ...   \n",
       "27752  www.basketball-reference.com/boxscores/2020083...  NaN   NaN       1   \n",
       "27753  www.basketball-reference.com/boxscores/2020083...  NaN   NaN       1   \n",
       "27754  www.basketball-reference.com/boxscores/2020083...  NaN   NaN       1   \n",
       "27755  www.basketball-reference.com/boxscores/2020083...  NaN   NaN       1   \n",
       "27756  www.basketball-reference.com/boxscores/2020083...  NaN   NaN       1   \n",
       "\n",
       "       ...           Player  STL  STLP  TOV  TOVP  TRB  TRBP    TSP  \\\n",
       "0      ...       Kyle Lowry    2   2.1    4  16.2    5   5.4  0.531   \n",
       "1      ...    Fred VanVleet    2   2.1    2   8.8    5   5.4  0.824   \n",
       "2      ...    Pascal Siakam    0   0.0    4  11.5   18  22.7  0.551   \n",
       "3      ...       OG Anunoby    0   0.0    1   7.4    7   9.4  0.442   \n",
       "4      ...       Marc Gasol    0   0.0    0   0.0    4   6.0  0.318   \n",
       "...    ...              ...  ...   ...  ...   ...  ...   ...    ...   \n",
       "27752  ...     Ben McLemore    0   0.0    0   NaN    0   0.0    NaN   \n",
       "27753  ...    Bruno Caboclo    0   0.0    0   0.0    0   0.0  0.000   \n",
       "27754  ...   Tyson Chandler    0   0.0    0   0.0    0   0.0  0.000   \n",
       "27755  ...  Michael Frazier    0   0.0    0   0.0    0   0.0  0.000   \n",
       "27756  ...  DeMarre Carroll    0   0.0    0   0.0    0   0.0  0.000   \n",
       "\n",
       "       Time_copy  USGP  \n",
       "0            NaN  21.5  \n",
       "1            NaN  19.9  \n",
       "2            NaN  35.7  \n",
       "3            NaN  14.7  \n",
       "4            NaN  11.6  \n",
       "...          ...   ...  \n",
       "27752        NaN   0.0  \n",
       "27753        NaN   0.0  \n",
       "27754        NaN   0.0  \n",
       "27755        NaN   0.0  \n",
       "27756        NaN   0.0  \n",
       "\n",
       "[27757 rows x 50 columns]"
      ]
     },
     "execution_count": 6,
     "metadata": {},
     "output_type": "execute_result"
    }
   ],
   "source": [
    "player_perf_team"
   ]
  },
  {
   "cell_type": "markdown",
   "metadata": {},
   "source": [
    "## Analyze key metrics before and after the bubble"
   ]
  },
  {
   "cell_type": "code",
   "execution_count": 7,
   "metadata": {},
   "outputs": [
    {
     "data": {
      "text/plain": [
       "Index(['Date', 'Time', 'Opposing Team', 'Opposing Points', 'Team', 'Points',\n",
       "       'Box Score', 'OT', 'Notes', 'bubble', 'playoff', '3P', '3PA', '3PAR',\n",
       "       '3PP', 'AST', 'ASTP', 'BLK', 'BLKP', 'DRB', 'DRBP', 'DRTG', 'EFGP',\n",
       "       'FD', 'FG', 'FGA', 'FGP', 'FT', 'FTA', 'FTP', 'FTR', 'Home', 'Minutes',\n",
       "       'ORB', 'ORBP', 'ORTG', 'Opp Team', 'PF', 'PM', 'PTS', 'Player', 'STL',\n",
       "       'STLP', 'TOV', 'TOVP', 'TRB', 'TRBP', 'TSP', 'Time_copy', 'USGP'],\n",
       "      dtype='object')"
      ]
     },
     "execution_count": 7,
     "metadata": {},
     "output_type": "execute_result"
    }
   ],
   "source": [
    "player_perf_team.columns"
   ]
  },
  {
   "cell_type": "code",
   "execution_count": 8,
   "metadata": {},
   "outputs": [
    {
     "data": {
      "text/html": [
       "<div>\n",
       "<style scoped>\n",
       "    .dataframe tbody tr th:only-of-type {\n",
       "        vertical-align: middle;\n",
       "    }\n",
       "\n",
       "    .dataframe tbody tr th {\n",
       "        vertical-align: top;\n",
       "    }\n",
       "\n",
       "    .dataframe thead th {\n",
       "        text-align: right;\n",
       "    }\n",
       "</style>\n",
       "<table border=\"1\" class=\"dataframe\">\n",
       "  <thead>\n",
       "    <tr style=\"text-align: right;\">\n",
       "      <th></th>\n",
       "      <th>Player</th>\n",
       "      <th>Count</th>\n",
       "      <th>3P</th>\n",
       "      <th>3PA</th>\n",
       "      <th>AST</th>\n",
       "      <th>BLK</th>\n",
       "      <th>DRB</th>\n",
       "      <th>ORB</th>\n",
       "      <th>DRTG</th>\n",
       "      <th>ORTG</th>\n",
       "      <th>FG</th>\n",
       "      <th>FGA</th>\n",
       "      <th>FT</th>\n",
       "      <th>FTA</th>\n",
       "      <th>Minutes</th>\n",
       "      <th>PTS</th>\n",
       "      <th>STL</th>\n",
       "      <th>TOV</th>\n",
       "      <th>TRB</th>\n",
       "    </tr>\n",
       "  </thead>\n",
       "  <tbody>\n",
       "    <tr>\n",
       "      <th>0</th>\n",
       "      <td>Aaron Gordon</td>\n",
       "      <td>58</td>\n",
       "      <td>1.172414</td>\n",
       "      <td>3.896552</td>\n",
       "      <td>3.706897</td>\n",
       "      <td>0.620690</td>\n",
       "      <td>5.827586</td>\n",
       "      <td>1.775862</td>\n",
       "      <td>110.275862</td>\n",
       "      <td>104.931034</td>\n",
       "      <td>5.413793</td>\n",
       "      <td>12.517241</td>\n",
       "      <td>2.362069</td>\n",
       "      <td>3.500000</td>\n",
       "      <td>32.995402</td>\n",
       "      <td>14.362069</td>\n",
       "      <td>0.862069</td>\n",
       "      <td>1.620690</td>\n",
       "      <td>7.603448</td>\n",
       "    </tr>\n",
       "    <tr>\n",
       "      <th>1</th>\n",
       "      <td>Aaron Holiday</td>\n",
       "      <td>65</td>\n",
       "      <td>1.230769</td>\n",
       "      <td>3.123077</td>\n",
       "      <td>2.969231</td>\n",
       "      <td>0.200000</td>\n",
       "      <td>1.707692</td>\n",
       "      <td>0.323077</td>\n",
       "      <td>99.538462</td>\n",
       "      <td>87.415385</td>\n",
       "      <td>3.107692</td>\n",
       "      <td>7.630769</td>\n",
       "      <td>0.953846</td>\n",
       "      <td>1.107692</td>\n",
       "      <td>21.049487</td>\n",
       "      <td>8.400000</td>\n",
       "      <td>0.692308</td>\n",
       "      <td>1.153846</td>\n",
       "      <td>2.030769</td>\n",
       "    </tr>\n",
       "    <tr>\n",
       "      <th>2</th>\n",
       "      <td>Abdel Nader</td>\n",
       "      <td>57</td>\n",
       "      <td>0.684211</td>\n",
       "      <td>1.842105</td>\n",
       "      <td>0.614035</td>\n",
       "      <td>0.350877</td>\n",
       "      <td>1.333333</td>\n",
       "      <td>0.245614</td>\n",
       "      <td>94.087719</td>\n",
       "      <td>87.754386</td>\n",
       "      <td>1.754386</td>\n",
       "      <td>3.859649</td>\n",
       "      <td>0.842105</td>\n",
       "      <td>1.087719</td>\n",
       "      <td>13.264620</td>\n",
       "      <td>5.035088</td>\n",
       "      <td>0.350877</td>\n",
       "      <td>0.631579</td>\n",
       "      <td>1.578947</td>\n",
       "    </tr>\n",
       "    <tr>\n",
       "      <th>3</th>\n",
       "      <td>Adam Mokoka</td>\n",
       "      <td>18</td>\n",
       "      <td>0.333333</td>\n",
       "      <td>0.833333</td>\n",
       "      <td>0.222222</td>\n",
       "      <td>0.000000</td>\n",
       "      <td>0.166667</td>\n",
       "      <td>0.388889</td>\n",
       "      <td>73.944444</td>\n",
       "      <td>62.833333</td>\n",
       "      <td>0.666667</td>\n",
       "      <td>1.555556</td>\n",
       "      <td>0.111111</td>\n",
       "      <td>0.222222</td>\n",
       "      <td>6.203704</td>\n",
       "      <td>1.777778</td>\n",
       "      <td>0.222222</td>\n",
       "      <td>0.111111</td>\n",
       "      <td>0.555556</td>\n",
       "    </tr>\n",
       "    <tr>\n",
       "      <th>4</th>\n",
       "      <td>Admiral Schofield</td>\n",
       "      <td>36</td>\n",
       "      <td>0.388889</td>\n",
       "      <td>1.305556</td>\n",
       "      <td>0.388889</td>\n",
       "      <td>0.083333</td>\n",
       "      <td>0.777778</td>\n",
       "      <td>0.166667</td>\n",
       "      <td>87.305556</td>\n",
       "      <td>39.055556</td>\n",
       "      <td>0.833333</td>\n",
       "      <td>2.083333</td>\n",
       "      <td>0.250000</td>\n",
       "      <td>0.361111</td>\n",
       "      <td>8.129167</td>\n",
       "      <td>2.305556</td>\n",
       "      <td>0.222222</td>\n",
       "      <td>0.194444</td>\n",
       "      <td>0.944444</td>\n",
       "    </tr>\n",
       "  </tbody>\n",
       "</table>\n",
       "</div>"
      ],
      "text/plain": [
       "              Player  Count        3P       3PA       AST       BLK       DRB  \\\n",
       "0       Aaron Gordon     58  1.172414  3.896552  3.706897  0.620690  5.827586   \n",
       "1      Aaron Holiday     65  1.230769  3.123077  2.969231  0.200000  1.707692   \n",
       "2        Abdel Nader     57  0.684211  1.842105  0.614035  0.350877  1.333333   \n",
       "3        Adam Mokoka     18  0.333333  0.833333  0.222222  0.000000  0.166667   \n",
       "4  Admiral Schofield     36  0.388889  1.305556  0.388889  0.083333  0.777778   \n",
       "\n",
       "        ORB        DRTG        ORTG        FG        FGA        FT       FTA  \\\n",
       "0  1.775862  110.275862  104.931034  5.413793  12.517241  2.362069  3.500000   \n",
       "1  0.323077   99.538462   87.415385  3.107692   7.630769  0.953846  1.107692   \n",
       "2  0.245614   94.087719   87.754386  1.754386   3.859649  0.842105  1.087719   \n",
       "3  0.388889   73.944444   62.833333  0.666667   1.555556  0.111111  0.222222   \n",
       "4  0.166667   87.305556   39.055556  0.833333   2.083333  0.250000  0.361111   \n",
       "\n",
       "     Minutes        PTS       STL       TOV       TRB  \n",
       "0  32.995402  14.362069  0.862069  1.620690  7.603448  \n",
       "1  21.049487   8.400000  0.692308  1.153846  2.030769  \n",
       "2  13.264620   5.035088  0.350877  0.631579  1.578947  \n",
       "3   6.203704   1.777778  0.222222  0.111111  0.555556  \n",
       "4   8.129167   2.305556  0.222222  0.194444  0.944444  "
      ]
     },
     "execution_count": 8,
     "metadata": {},
     "output_type": "execute_result"
    }
   ],
   "source": [
    "# find average of metrics before bubble\n",
    "\n",
    "pre = player_perf_team.loc[player_perf_team['bubble']==0]\n",
    "pre_agg = pre.groupby('Player').agg({'Time':'count', '3P':'mean', '3PA':'mean', 'AST':'mean', 'BLK':'mean', \n",
    "                                     'DRB':'mean', 'ORB': 'mean', 'DRTG':'mean', 'ORTG':'mean', 'FG':'mean', \n",
    "                                     'FGA':'mean', 'FT':'mean', 'FTA':'mean', 'Minutes':'mean', 'PTS':'mean', \n",
    "                                     'STL':'mean', 'TOV':'mean', 'TRB':'mean'}).reset_index()\n",
    "pre_agg.rename(columns={'Time':'Count'}, inplace=True)\n",
    "pre_agg.head()"
   ]
  },
  {
   "cell_type": "code",
   "execution_count": 9,
   "metadata": {},
   "outputs": [
    {
     "data": {
      "text/html": [
       "<div>\n",
       "<style scoped>\n",
       "    .dataframe tbody tr th:only-of-type {\n",
       "        vertical-align: middle;\n",
       "    }\n",
       "\n",
       "    .dataframe tbody tr th {\n",
       "        vertical-align: top;\n",
       "    }\n",
       "\n",
       "    .dataframe thead th {\n",
       "        text-align: right;\n",
       "    }\n",
       "</style>\n",
       "<table border=\"1\" class=\"dataframe\">\n",
       "  <thead>\n",
       "    <tr style=\"text-align: right;\">\n",
       "      <th></th>\n",
       "      <th>Player</th>\n",
       "      <th>Count</th>\n",
       "      <th>3P</th>\n",
       "      <th>3PA</th>\n",
       "      <th>AST</th>\n",
       "      <th>BLK</th>\n",
       "      <th>DRB</th>\n",
       "      <th>ORB</th>\n",
       "      <th>DRTG</th>\n",
       "      <th>ORTG</th>\n",
       "      <th>FG</th>\n",
       "      <th>FGA</th>\n",
       "      <th>FT</th>\n",
       "      <th>FTA</th>\n",
       "      <th>Minutes</th>\n",
       "      <th>PTS</th>\n",
       "      <th>STL</th>\n",
       "      <th>TOV</th>\n",
       "      <th>TRB</th>\n",
       "    </tr>\n",
       "  </thead>\n",
       "  <tbody>\n",
       "    <tr>\n",
       "      <th>0</th>\n",
       "      <td>Aaron Gordon</td>\n",
       "      <td>4</td>\n",
       "      <td>1.250000</td>\n",
       "      <td>2.750000</td>\n",
       "      <td>3.250000</td>\n",
       "      <td>0.750000</td>\n",
       "      <td>7.500000</td>\n",
       "      <td>1.000000</td>\n",
       "      <td>112.250000</td>\n",
       "      <td>118.500000</td>\n",
       "      <td>5.250000</td>\n",
       "      <td>10.250000</td>\n",
       "      <td>3.500000</td>\n",
       "      <td>5.250000</td>\n",
       "      <td>25.854167</td>\n",
       "      <td>15.250000</td>\n",
       "      <td>0.250000</td>\n",
       "      <td>1.500000</td>\n",
       "      <td>8.500000</td>\n",
       "    </tr>\n",
       "    <tr>\n",
       "      <th>1</th>\n",
       "      <td>Aaron Holiday</td>\n",
       "      <td>12</td>\n",
       "      <td>0.916667</td>\n",
       "      <td>2.250000</td>\n",
       "      <td>3.500000</td>\n",
       "      <td>0.250000</td>\n",
       "      <td>2.250000</td>\n",
       "      <td>0.166667</td>\n",
       "      <td>110.916667</td>\n",
       "      <td>107.166667</td>\n",
       "      <td>3.583333</td>\n",
       "      <td>7.333333</td>\n",
       "      <td>1.250000</td>\n",
       "      <td>1.666667</td>\n",
       "      <td>26.748611</td>\n",
       "      <td>9.333333</td>\n",
       "      <td>1.166667</td>\n",
       "      <td>1.416667</td>\n",
       "      <td>2.416667</td>\n",
       "    </tr>\n",
       "    <tr>\n",
       "      <th>2</th>\n",
       "      <td>Abdel Nader</td>\n",
       "      <td>13</td>\n",
       "      <td>0.769231</td>\n",
       "      <td>2.153846</td>\n",
       "      <td>0.230769</td>\n",
       "      <td>0.153846</td>\n",
       "      <td>0.923077</td>\n",
       "      <td>0.076923</td>\n",
       "      <td>88.230769</td>\n",
       "      <td>70.307692</td>\n",
       "      <td>1.846154</td>\n",
       "      <td>3.846154</td>\n",
       "      <td>0.307692</td>\n",
       "      <td>0.461538</td>\n",
       "      <td>10.483333</td>\n",
       "      <td>4.769231</td>\n",
       "      <td>0.307692</td>\n",
       "      <td>0.538462</td>\n",
       "      <td>1.000000</td>\n",
       "    </tr>\n",
       "    <tr>\n",
       "      <th>3</th>\n",
       "      <td>Admiral Schofield</td>\n",
       "      <td>8</td>\n",
       "      <td>0.625000</td>\n",
       "      <td>1.750000</td>\n",
       "      <td>0.125000</td>\n",
       "      <td>0.125000</td>\n",
       "      <td>1.500000</td>\n",
       "      <td>0.125000</td>\n",
       "      <td>89.250000</td>\n",
       "      <td>73.625000</td>\n",
       "      <td>0.625000</td>\n",
       "      <td>2.125000</td>\n",
       "      <td>0.125000</td>\n",
       "      <td>0.250000</td>\n",
       "      <td>9.458333</td>\n",
       "      <td>2.000000</td>\n",
       "      <td>0.000000</td>\n",
       "      <td>0.000000</td>\n",
       "      <td>1.625000</td>\n",
       "    </tr>\n",
       "    <tr>\n",
       "      <th>4</th>\n",
       "      <td>Al Horford</td>\n",
       "      <td>12</td>\n",
       "      <td>0.833333</td>\n",
       "      <td>1.916667</td>\n",
       "      <td>2.916667</td>\n",
       "      <td>0.916667</td>\n",
       "      <td>4.416667</td>\n",
       "      <td>1.666667</td>\n",
       "      <td>106.166667</td>\n",
       "      <td>108.333333</td>\n",
       "      <td>3.500000</td>\n",
       "      <td>6.666667</td>\n",
       "      <td>0.833333</td>\n",
       "      <td>1.166667</td>\n",
       "      <td>25.506944</td>\n",
       "      <td>8.666667</td>\n",
       "      <td>0.083333</td>\n",
       "      <td>1.500000</td>\n",
       "      <td>6.083333</td>\n",
       "    </tr>\n",
       "  </tbody>\n",
       "</table>\n",
       "</div>"
      ],
      "text/plain": [
       "              Player  Count        3P       3PA       AST       BLK       DRB  \\\n",
       "0       Aaron Gordon      4  1.250000  2.750000  3.250000  0.750000  7.500000   \n",
       "1      Aaron Holiday     12  0.916667  2.250000  3.500000  0.250000  2.250000   \n",
       "2        Abdel Nader     13  0.769231  2.153846  0.230769  0.153846  0.923077   \n",
       "3  Admiral Schofield      8  0.625000  1.750000  0.125000  0.125000  1.500000   \n",
       "4         Al Horford     12  0.833333  1.916667  2.916667  0.916667  4.416667   \n",
       "\n",
       "        ORB        DRTG        ORTG        FG        FGA        FT       FTA  \\\n",
       "0  1.000000  112.250000  118.500000  5.250000  10.250000  3.500000  5.250000   \n",
       "1  0.166667  110.916667  107.166667  3.583333   7.333333  1.250000  1.666667   \n",
       "2  0.076923   88.230769   70.307692  1.846154   3.846154  0.307692  0.461538   \n",
       "3  0.125000   89.250000   73.625000  0.625000   2.125000  0.125000  0.250000   \n",
       "4  1.666667  106.166667  108.333333  3.500000   6.666667  0.833333  1.166667   \n",
       "\n",
       "     Minutes        PTS       STL       TOV       TRB  \n",
       "0  25.854167  15.250000  0.250000  1.500000  8.500000  \n",
       "1  26.748611   9.333333  1.166667  1.416667  2.416667  \n",
       "2  10.483333   4.769231  0.307692  0.538462  1.000000  \n",
       "3   9.458333   2.000000  0.000000  0.000000  1.625000  \n",
       "4  25.506944   8.666667  0.083333  1.500000  6.083333  "
      ]
     },
     "execution_count": 9,
     "metadata": {},
     "output_type": "execute_result"
    }
   ],
   "source": [
    "# find average of metrics after bubble\n",
    "\n",
    "post = player_perf_team.loc[player_perf_team['bubble']==1]\n",
    "post_agg = post.groupby('Player').agg({'Time':'count', '3P':'mean', '3PA':'mean', 'AST':'mean', 'BLK':'mean', \n",
    "                                     'DRB':'mean', 'ORB': 'mean', 'DRTG':'mean', 'ORTG':'mean', 'FG':'mean', \n",
    "                                     'FGA':'mean', 'FT':'mean', 'FTA':'mean', 'Minutes':'mean', 'PTS':'mean', \n",
    "                                     'STL':'mean', 'TOV':'mean', 'TRB':'mean'}).reset_index()\n",
    "post_agg.rename(columns={'Time':'Count'}, inplace=True)\n",
    "post_agg.head()"
   ]
  },
  {
   "cell_type": "code",
   "execution_count": 10,
   "metadata": {},
   "outputs": [
    {
     "data": {
      "text/html": [
       "<div>\n",
       "<style scoped>\n",
       "    .dataframe tbody tr th:only-of-type {\n",
       "        vertical-align: middle;\n",
       "    }\n",
       "\n",
       "    .dataframe tbody tr th {\n",
       "        vertical-align: top;\n",
       "    }\n",
       "\n",
       "    .dataframe thead th {\n",
       "        text-align: right;\n",
       "    }\n",
       "</style>\n",
       "<table border=\"1\" class=\"dataframe\">\n",
       "  <thead>\n",
       "    <tr style=\"text-align: right;\">\n",
       "      <th></th>\n",
       "      <th>Player</th>\n",
       "      <th>Count_pre</th>\n",
       "      <th>3P_pre</th>\n",
       "      <th>3PA_pre</th>\n",
       "      <th>AST_pre</th>\n",
       "      <th>BLK_pre</th>\n",
       "      <th>DRB_pre</th>\n",
       "      <th>ORB_pre</th>\n",
       "      <th>DRTG_pre</th>\n",
       "      <th>ORTG_pre</th>\n",
       "      <th>...</th>\n",
       "      <th>ORTG_post</th>\n",
       "      <th>FG_post</th>\n",
       "      <th>FGA_post</th>\n",
       "      <th>FT_post</th>\n",
       "      <th>FTA_post</th>\n",
       "      <th>Minutes_post</th>\n",
       "      <th>PTS_post</th>\n",
       "      <th>STL_post</th>\n",
       "      <th>TOV_post</th>\n",
       "      <th>TRB_post</th>\n",
       "    </tr>\n",
       "  </thead>\n",
       "  <tbody>\n",
       "    <tr>\n",
       "      <th>0</th>\n",
       "      <td>Aaron Gordon</td>\n",
       "      <td>58</td>\n",
       "      <td>1.172414</td>\n",
       "      <td>3.896552</td>\n",
       "      <td>3.706897</td>\n",
       "      <td>0.620690</td>\n",
       "      <td>5.827586</td>\n",
       "      <td>1.775862</td>\n",
       "      <td>110.275862</td>\n",
       "      <td>104.931034</td>\n",
       "      <td>...</td>\n",
       "      <td>118.500000</td>\n",
       "      <td>5.250000</td>\n",
       "      <td>10.250000</td>\n",
       "      <td>3.500000</td>\n",
       "      <td>5.250000</td>\n",
       "      <td>25.854167</td>\n",
       "      <td>15.250000</td>\n",
       "      <td>0.250000</td>\n",
       "      <td>1.500000</td>\n",
       "      <td>8.500000</td>\n",
       "    </tr>\n",
       "    <tr>\n",
       "      <th>1</th>\n",
       "      <td>Aaron Holiday</td>\n",
       "      <td>65</td>\n",
       "      <td>1.230769</td>\n",
       "      <td>3.123077</td>\n",
       "      <td>2.969231</td>\n",
       "      <td>0.200000</td>\n",
       "      <td>1.707692</td>\n",
       "      <td>0.323077</td>\n",
       "      <td>99.538462</td>\n",
       "      <td>87.415385</td>\n",
       "      <td>...</td>\n",
       "      <td>107.166667</td>\n",
       "      <td>3.583333</td>\n",
       "      <td>7.333333</td>\n",
       "      <td>1.250000</td>\n",
       "      <td>1.666667</td>\n",
       "      <td>26.748611</td>\n",
       "      <td>9.333333</td>\n",
       "      <td>1.166667</td>\n",
       "      <td>1.416667</td>\n",
       "      <td>2.416667</td>\n",
       "    </tr>\n",
       "    <tr>\n",
       "      <th>2</th>\n",
       "      <td>Abdel Nader</td>\n",
       "      <td>57</td>\n",
       "      <td>0.684211</td>\n",
       "      <td>1.842105</td>\n",
       "      <td>0.614035</td>\n",
       "      <td>0.350877</td>\n",
       "      <td>1.333333</td>\n",
       "      <td>0.245614</td>\n",
       "      <td>94.087719</td>\n",
       "      <td>87.754386</td>\n",
       "      <td>...</td>\n",
       "      <td>70.307692</td>\n",
       "      <td>1.846154</td>\n",
       "      <td>3.846154</td>\n",
       "      <td>0.307692</td>\n",
       "      <td>0.461538</td>\n",
       "      <td>10.483333</td>\n",
       "      <td>4.769231</td>\n",
       "      <td>0.307692</td>\n",
       "      <td>0.538462</td>\n",
       "      <td>1.000000</td>\n",
       "    </tr>\n",
       "    <tr>\n",
       "      <th>3</th>\n",
       "      <td>Admiral Schofield</td>\n",
       "      <td>36</td>\n",
       "      <td>0.388889</td>\n",
       "      <td>1.305556</td>\n",
       "      <td>0.388889</td>\n",
       "      <td>0.083333</td>\n",
       "      <td>0.777778</td>\n",
       "      <td>0.166667</td>\n",
       "      <td>87.305556</td>\n",
       "      <td>39.055556</td>\n",
       "      <td>...</td>\n",
       "      <td>73.625000</td>\n",
       "      <td>0.625000</td>\n",
       "      <td>2.125000</td>\n",
       "      <td>0.125000</td>\n",
       "      <td>0.250000</td>\n",
       "      <td>9.458333</td>\n",
       "      <td>2.000000</td>\n",
       "      <td>0.000000</td>\n",
       "      <td>0.000000</td>\n",
       "      <td>1.625000</td>\n",
       "    </tr>\n",
       "    <tr>\n",
       "      <th>4</th>\n",
       "      <td>Al Horford</td>\n",
       "      <td>61</td>\n",
       "      <td>1.459016</td>\n",
       "      <td>4.327869</td>\n",
       "      <td>4.000000</td>\n",
       "      <td>0.901639</td>\n",
       "      <td>5.245902</td>\n",
       "      <td>1.508197</td>\n",
       "      <td>106.606557</td>\n",
       "      <td>113.557377</td>\n",
       "      <td>...</td>\n",
       "      <td>108.333333</td>\n",
       "      <td>3.500000</td>\n",
       "      <td>6.666667</td>\n",
       "      <td>0.833333</td>\n",
       "      <td>1.166667</td>\n",
       "      <td>25.506944</td>\n",
       "      <td>8.666667</td>\n",
       "      <td>0.083333</td>\n",
       "      <td>1.500000</td>\n",
       "      <td>6.083333</td>\n",
       "    </tr>\n",
       "  </tbody>\n",
       "</table>\n",
       "<p>5 rows × 37 columns</p>\n",
       "</div>"
      ],
      "text/plain": [
       "              Player  Count_pre    3P_pre   3PA_pre   AST_pre   BLK_pre  \\\n",
       "0       Aaron Gordon         58  1.172414  3.896552  3.706897  0.620690   \n",
       "1      Aaron Holiday         65  1.230769  3.123077  2.969231  0.200000   \n",
       "2        Abdel Nader         57  0.684211  1.842105  0.614035  0.350877   \n",
       "3  Admiral Schofield         36  0.388889  1.305556  0.388889  0.083333   \n",
       "4         Al Horford         61  1.459016  4.327869  4.000000  0.901639   \n",
       "\n",
       "    DRB_pre   ORB_pre    DRTG_pre    ORTG_pre  ...   ORTG_post   FG_post  \\\n",
       "0  5.827586  1.775862  110.275862  104.931034  ...  118.500000  5.250000   \n",
       "1  1.707692  0.323077   99.538462   87.415385  ...  107.166667  3.583333   \n",
       "2  1.333333  0.245614   94.087719   87.754386  ...   70.307692  1.846154   \n",
       "3  0.777778  0.166667   87.305556   39.055556  ...   73.625000  0.625000   \n",
       "4  5.245902  1.508197  106.606557  113.557377  ...  108.333333  3.500000   \n",
       "\n",
       "    FGA_post   FT_post  FTA_post  Minutes_post   PTS_post  STL_post  TOV_post  \\\n",
       "0  10.250000  3.500000  5.250000     25.854167  15.250000  0.250000  1.500000   \n",
       "1   7.333333  1.250000  1.666667     26.748611   9.333333  1.166667  1.416667   \n",
       "2   3.846154  0.307692  0.461538     10.483333   4.769231  0.307692  0.538462   \n",
       "3   2.125000  0.125000  0.250000      9.458333   2.000000  0.000000  0.000000   \n",
       "4   6.666667  0.833333  1.166667     25.506944   8.666667  0.083333  1.500000   \n",
       "\n",
       "   TRB_post  \n",
       "0  8.500000  \n",
       "1  2.416667  \n",
       "2  1.000000  \n",
       "3  1.625000  \n",
       "4  6.083333  \n",
       "\n",
       "[5 rows x 37 columns]"
      ]
     },
     "execution_count": 10,
     "metadata": {},
     "output_type": "execute_result"
    }
   ],
   "source": [
    "# join together\n",
    "pre_post_agg = pd.merge(pre_agg, post_agg, on='Player', how='inner', suffixes=['_pre', '_post'])\n",
    "pre_post_agg.head()"
   ]
  },
  {
   "cell_type": "code",
   "execution_count": 11,
   "metadata": {},
   "outputs": [
    {
     "data": {
      "text/html": [
       "<div>\n",
       "<style scoped>\n",
       "    .dataframe tbody tr th:only-of-type {\n",
       "        vertical-align: middle;\n",
       "    }\n",
       "\n",
       "    .dataframe tbody tr th {\n",
       "        vertical-align: top;\n",
       "    }\n",
       "\n",
       "    .dataframe thead th {\n",
       "        text-align: right;\n",
       "    }\n",
       "</style>\n",
       "<table border=\"1\" class=\"dataframe\">\n",
       "  <thead>\n",
       "    <tr style=\"text-align: right;\">\n",
       "      <th></th>\n",
       "      <th>Player</th>\n",
       "      <th>Count_pre</th>\n",
       "      <th>3P_pre</th>\n",
       "      <th>3PA_pre</th>\n",
       "      <th>AST_pre</th>\n",
       "      <th>BLK_pre</th>\n",
       "      <th>DRB_pre</th>\n",
       "      <th>ORB_pre</th>\n",
       "      <th>DRTG_pre</th>\n",
       "      <th>ORTG_pre</th>\n",
       "      <th>...</th>\n",
       "      <th>Minutes_diff</th>\n",
       "      <th>Minutes_diff_abs</th>\n",
       "      <th>PTS_diff</th>\n",
       "      <th>PTS_diff_abs</th>\n",
       "      <th>STL_diff</th>\n",
       "      <th>STL_diff_abs</th>\n",
       "      <th>TOV_diff</th>\n",
       "      <th>TOV_diff_abs</th>\n",
       "      <th>TRB_diff</th>\n",
       "      <th>TRB_diff_abs</th>\n",
       "    </tr>\n",
       "  </thead>\n",
       "  <tbody>\n",
       "    <tr>\n",
       "      <th>0</th>\n",
       "      <td>Aaron Gordon</td>\n",
       "      <td>58</td>\n",
       "      <td>1.172414</td>\n",
       "      <td>3.896552</td>\n",
       "      <td>3.706897</td>\n",
       "      <td>0.620690</td>\n",
       "      <td>5.827586</td>\n",
       "      <td>1.775862</td>\n",
       "      <td>110.275862</td>\n",
       "      <td>104.931034</td>\n",
       "      <td>...</td>\n",
       "      <td>-7.141236</td>\n",
       "      <td>7.141236</td>\n",
       "      <td>0.887931</td>\n",
       "      <td>0.887931</td>\n",
       "      <td>-0.612069</td>\n",
       "      <td>0.612069</td>\n",
       "      <td>-0.120690</td>\n",
       "      <td>0.120690</td>\n",
       "      <td>0.896552</td>\n",
       "      <td>0.896552</td>\n",
       "    </tr>\n",
       "    <tr>\n",
       "      <th>1</th>\n",
       "      <td>Aaron Holiday</td>\n",
       "      <td>65</td>\n",
       "      <td>1.230769</td>\n",
       "      <td>3.123077</td>\n",
       "      <td>2.969231</td>\n",
       "      <td>0.200000</td>\n",
       "      <td>1.707692</td>\n",
       "      <td>0.323077</td>\n",
       "      <td>99.538462</td>\n",
       "      <td>87.415385</td>\n",
       "      <td>...</td>\n",
       "      <td>5.699124</td>\n",
       "      <td>5.699124</td>\n",
       "      <td>0.933333</td>\n",
       "      <td>0.933333</td>\n",
       "      <td>0.474359</td>\n",
       "      <td>0.474359</td>\n",
       "      <td>0.262821</td>\n",
       "      <td>0.262821</td>\n",
       "      <td>0.385897</td>\n",
       "      <td>0.385897</td>\n",
       "    </tr>\n",
       "    <tr>\n",
       "      <th>2</th>\n",
       "      <td>Abdel Nader</td>\n",
       "      <td>57</td>\n",
       "      <td>0.684211</td>\n",
       "      <td>1.842105</td>\n",
       "      <td>0.614035</td>\n",
       "      <td>0.350877</td>\n",
       "      <td>1.333333</td>\n",
       "      <td>0.245614</td>\n",
       "      <td>94.087719</td>\n",
       "      <td>87.754386</td>\n",
       "      <td>...</td>\n",
       "      <td>-2.781287</td>\n",
       "      <td>2.781287</td>\n",
       "      <td>-0.265857</td>\n",
       "      <td>0.265857</td>\n",
       "      <td>-0.043185</td>\n",
       "      <td>0.043185</td>\n",
       "      <td>-0.093117</td>\n",
       "      <td>0.093117</td>\n",
       "      <td>-0.578947</td>\n",
       "      <td>0.578947</td>\n",
       "    </tr>\n",
       "    <tr>\n",
       "      <th>3</th>\n",
       "      <td>Admiral Schofield</td>\n",
       "      <td>36</td>\n",
       "      <td>0.388889</td>\n",
       "      <td>1.305556</td>\n",
       "      <td>0.388889</td>\n",
       "      <td>0.083333</td>\n",
       "      <td>0.777778</td>\n",
       "      <td>0.166667</td>\n",
       "      <td>87.305556</td>\n",
       "      <td>39.055556</td>\n",
       "      <td>...</td>\n",
       "      <td>1.329167</td>\n",
       "      <td>1.329167</td>\n",
       "      <td>-0.305556</td>\n",
       "      <td>0.305556</td>\n",
       "      <td>-0.222222</td>\n",
       "      <td>0.222222</td>\n",
       "      <td>-0.194444</td>\n",
       "      <td>0.194444</td>\n",
       "      <td>0.680556</td>\n",
       "      <td>0.680556</td>\n",
       "    </tr>\n",
       "    <tr>\n",
       "      <th>4</th>\n",
       "      <td>Al Horford</td>\n",
       "      <td>61</td>\n",
       "      <td>1.459016</td>\n",
       "      <td>4.327869</td>\n",
       "      <td>4.000000</td>\n",
       "      <td>0.901639</td>\n",
       "      <td>5.245902</td>\n",
       "      <td>1.508197</td>\n",
       "      <td>106.606557</td>\n",
       "      <td>113.557377</td>\n",
       "      <td>...</td>\n",
       "      <td>-4.786225</td>\n",
       "      <td>4.786225</td>\n",
       "      <td>-3.169399</td>\n",
       "      <td>3.169399</td>\n",
       "      <td>-0.769126</td>\n",
       "      <td>0.769126</td>\n",
       "      <td>0.434426</td>\n",
       "      <td>0.434426</td>\n",
       "      <td>-0.670765</td>\n",
       "      <td>0.670765</td>\n",
       "    </tr>\n",
       "  </tbody>\n",
       "</table>\n",
       "<p>5 rows × 71 columns</p>\n",
       "</div>"
      ],
      "text/plain": [
       "              Player  Count_pre    3P_pre   3PA_pre   AST_pre   BLK_pre  \\\n",
       "0       Aaron Gordon         58  1.172414  3.896552  3.706897  0.620690   \n",
       "1      Aaron Holiday         65  1.230769  3.123077  2.969231  0.200000   \n",
       "2        Abdel Nader         57  0.684211  1.842105  0.614035  0.350877   \n",
       "3  Admiral Schofield         36  0.388889  1.305556  0.388889  0.083333   \n",
       "4         Al Horford         61  1.459016  4.327869  4.000000  0.901639   \n",
       "\n",
       "    DRB_pre   ORB_pre    DRTG_pre    ORTG_pre  ...  Minutes_diff  \\\n",
       "0  5.827586  1.775862  110.275862  104.931034  ...     -7.141236   \n",
       "1  1.707692  0.323077   99.538462   87.415385  ...      5.699124   \n",
       "2  1.333333  0.245614   94.087719   87.754386  ...     -2.781287   \n",
       "3  0.777778  0.166667   87.305556   39.055556  ...      1.329167   \n",
       "4  5.245902  1.508197  106.606557  113.557377  ...     -4.786225   \n",
       "\n",
       "   Minutes_diff_abs  PTS_diff  PTS_diff_abs  STL_diff  STL_diff_abs  TOV_diff  \\\n",
       "0          7.141236  0.887931      0.887931 -0.612069      0.612069 -0.120690   \n",
       "1          5.699124  0.933333      0.933333  0.474359      0.474359  0.262821   \n",
       "2          2.781287 -0.265857      0.265857 -0.043185      0.043185 -0.093117   \n",
       "3          1.329167 -0.305556      0.305556 -0.222222      0.222222 -0.194444   \n",
       "4          4.786225 -3.169399      3.169399 -0.769126      0.769126  0.434426   \n",
       "\n",
       "   TOV_diff_abs  TRB_diff  TRB_diff_abs  \n",
       "0      0.120690  0.896552      0.896552  \n",
       "1      0.262821  0.385897      0.385897  \n",
       "2      0.093117 -0.578947      0.578947  \n",
       "3      0.194444  0.680556      0.680556  \n",
       "4      0.434426 -0.670765      0.670765  \n",
       "\n",
       "[5 rows x 71 columns]"
      ]
     },
     "execution_count": 11,
     "metadata": {},
     "output_type": "execute_result"
    }
   ],
   "source": [
    "# calculate differences in metrics\n",
    "metric_list = list(pre_agg.columns)\n",
    "metric_list.remove('Player')\n",
    "metric_list.remove('Count')\n",
    "\n",
    "for metric in metric_list:\n",
    "    pre_post_agg[metric+'_diff'] = pre_post_agg[metric+'_post'] - pre_post_agg[metric+'_pre']\n",
    "    pre_post_agg[metric+'_diff_abs'] = [abs(x) for x in pre_post_agg[metric+'_diff']]\n",
    "    \n",
    "pre_post_agg.head()    "
   ]
  },
  {
   "cell_type": "code",
   "execution_count": 12,
   "metadata": {},
   "outputs": [
    {
     "data": {
      "text/html": [
       "<div>\n",
       "<style scoped>\n",
       "    .dataframe tbody tr th:only-of-type {\n",
       "        vertical-align: middle;\n",
       "    }\n",
       "\n",
       "    .dataframe tbody tr th {\n",
       "        vertical-align: top;\n",
       "    }\n",
       "\n",
       "    .dataframe thead th {\n",
       "        text-align: right;\n",
       "    }\n",
       "</style>\n",
       "<table border=\"1\" class=\"dataframe\">\n",
       "  <thead>\n",
       "    <tr style=\"text-align: right;\">\n",
       "      <th></th>\n",
       "      <th>Player</th>\n",
       "      <th>Minutes_pre</th>\n",
       "      <th>Minutes_post</th>\n",
       "      <th>Minutes_diff</th>\n",
       "    </tr>\n",
       "  </thead>\n",
       "  <tbody>\n",
       "    <tr>\n",
       "      <th>173</th>\n",
       "      <td>Kelly Oubre</td>\n",
       "      <td>34.524107</td>\n",
       "      <td>0.000000</td>\n",
       "      <td>-34.524107</td>\n",
       "    </tr>\n",
       "    <tr>\n",
       "      <th>167</th>\n",
       "      <td>Jusuf Nurkić</td>\n",
       "      <td>0.000000</td>\n",
       "      <td>32.501190</td>\n",
       "      <td>32.501190</td>\n",
       "    </tr>\n",
       "    <tr>\n",
       "      <th>301</th>\n",
       "      <td>Tremont Waters</td>\n",
       "      <td>7.416667</td>\n",
       "      <td>29.650000</td>\n",
       "      <td>22.233333</td>\n",
       "    </tr>\n",
       "    <tr>\n",
       "      <th>171</th>\n",
       "      <td>Keldon Johnson</td>\n",
       "      <td>3.839583</td>\n",
       "      <td>26.050000</td>\n",
       "      <td>22.210417</td>\n",
       "    </tr>\n",
       "    <tr>\n",
       "      <th>220</th>\n",
       "      <td>Michael Porter</td>\n",
       "      <td>11.166667</td>\n",
       "      <td>30.630769</td>\n",
       "      <td>19.464103</td>\n",
       "    </tr>\n",
       "    <tr>\n",
       "      <th>155</th>\n",
       "      <td>Jonathan Isaac</td>\n",
       "      <td>29.650000</td>\n",
       "      <td>10.361111</td>\n",
       "      <td>-19.288889</td>\n",
       "    </tr>\n",
       "    <tr>\n",
       "      <th>302</th>\n",
       "      <td>Trey Burke</td>\n",
       "      <td>6.705782</td>\n",
       "      <td>24.844048</td>\n",
       "      <td>18.138265</td>\n",
       "    </tr>\n",
       "    <tr>\n",
       "      <th>146</th>\n",
       "      <td>Jerome Robinson</td>\n",
       "      <td>11.505128</td>\n",
       "      <td>28.914583</td>\n",
       "      <td>17.409455</td>\n",
       "    </tr>\n",
       "    <tr>\n",
       "      <th>100</th>\n",
       "      <td>Gary Trent</td>\n",
       "      <td>16.816667</td>\n",
       "      <td>32.889286</td>\n",
       "      <td>16.072619</td>\n",
       "    </tr>\n",
       "    <tr>\n",
       "      <th>158</th>\n",
       "      <td>Josh Jackson</td>\n",
       "      <td>18.784211</td>\n",
       "      <td>2.725926</td>\n",
       "      <td>-16.058285</td>\n",
       "    </tr>\n",
       "  </tbody>\n",
       "</table>\n",
       "</div>"
      ],
      "text/plain": [
       "              Player  Minutes_pre  Minutes_post  Minutes_diff\n",
       "173      Kelly Oubre    34.524107      0.000000    -34.524107\n",
       "167     Jusuf Nurkić     0.000000     32.501190     32.501190\n",
       "301   Tremont Waters     7.416667     29.650000     22.233333\n",
       "171   Keldon Johnson     3.839583     26.050000     22.210417\n",
       "220   Michael Porter    11.166667     30.630769     19.464103\n",
       "155   Jonathan Isaac    29.650000     10.361111    -19.288889\n",
       "302       Trey Burke     6.705782     24.844048     18.138265\n",
       "146  Jerome Robinson    11.505128     28.914583     17.409455\n",
       "100       Gary Trent    16.816667     32.889286     16.072619\n",
       "158     Josh Jackson    18.784211      2.725926    -16.058285"
      ]
     },
     "execution_count": 12,
     "metadata": {},
     "output_type": "execute_result"
    }
   ],
   "source": [
    "# players with biggest change in minutes\n",
    "metric = 'Minutes'\n",
    "pre_post_agg.sort_values(metric+'_diff_abs', ascending=False)[['Player', metric+'_pre', metric+'_post', metric+'_diff']].head(10)\n"
   ]
  },
  {
   "cell_type": "code",
   "execution_count": 13,
   "metadata": {},
   "outputs": [
    {
     "data": {
      "text/html": [
       "<div>\n",
       "<style scoped>\n",
       "    .dataframe tbody tr th:only-of-type {\n",
       "        vertical-align: middle;\n",
       "    }\n",
       "\n",
       "    .dataframe tbody tr th {\n",
       "        vertical-align: top;\n",
       "    }\n",
       "\n",
       "    .dataframe thead th {\n",
       "        text-align: right;\n",
       "    }\n",
       "</style>\n",
       "<table border=\"1\" class=\"dataframe\">\n",
       "  <thead>\n",
       "    <tr style=\"text-align: right;\">\n",
       "      <th></th>\n",
       "      <th>Player</th>\n",
       "      <th>PTS_pre</th>\n",
       "      <th>PTS_post</th>\n",
       "      <th>PTS_diff</th>\n",
       "    </tr>\n",
       "  </thead>\n",
       "  <tbody>\n",
       "    <tr>\n",
       "      <th>173</th>\n",
       "      <td>Kelly Oubre</td>\n",
       "      <td>18.678571</td>\n",
       "      <td>0.000000</td>\n",
       "      <td>-18.678571</td>\n",
       "    </tr>\n",
       "    <tr>\n",
       "      <th>167</th>\n",
       "      <td>Jusuf Nurkić</td>\n",
       "      <td>0.000000</td>\n",
       "      <td>16.714286</td>\n",
       "      <td>16.714286</td>\n",
       "    </tr>\n",
       "    <tr>\n",
       "      <th>171</th>\n",
       "      <td>Keldon Johnson</td>\n",
       "      <td>1.708333</td>\n",
       "      <td>14.125000</td>\n",
       "      <td>12.416667</td>\n",
       "    </tr>\n",
       "    <tr>\n",
       "      <th>146</th>\n",
       "      <td>Jerome Robinson</td>\n",
       "      <td>3.092308</td>\n",
       "      <td>14.750000</td>\n",
       "      <td>11.657692</td>\n",
       "    </tr>\n",
       "    <tr>\n",
       "      <th>220</th>\n",
       "      <td>Michael Porter</td>\n",
       "      <td>5.966667</td>\n",
       "      <td>17.538462</td>\n",
       "      <td>11.571795</td>\n",
       "    </tr>\n",
       "    <tr>\n",
       "      <th>297</th>\n",
       "      <td>Timothé Luwawu-Cabarrot</td>\n",
       "      <td>5.369565</td>\n",
       "      <td>15.166667</td>\n",
       "      <td>9.797101</td>\n",
       "    </tr>\n",
       "    <tr>\n",
       "      <th>228</th>\n",
       "      <td>Montrezl Harrell</td>\n",
       "      <td>18.619048</td>\n",
       "      <td>9.000000</td>\n",
       "      <td>-9.619048</td>\n",
       "    </tr>\n",
       "    <tr>\n",
       "      <th>302</th>\n",
       "      <td>Trey Burke</td>\n",
       "      <td>3.000000</td>\n",
       "      <td>12.142857</td>\n",
       "      <td>9.142857</td>\n",
       "    </tr>\n",
       "    <tr>\n",
       "      <th>295</th>\n",
       "      <td>Thomas Bryant</td>\n",
       "      <td>9.583333</td>\n",
       "      <td>18.625000</td>\n",
       "      <td>9.041667</td>\n",
       "    </tr>\n",
       "    <tr>\n",
       "      <th>308</th>\n",
       "      <td>Tyler Johnson</td>\n",
       "      <td>3.708333</td>\n",
       "      <td>12.583333</td>\n",
       "      <td>8.875000</td>\n",
       "    </tr>\n",
       "  </tbody>\n",
       "</table>\n",
       "</div>"
      ],
      "text/plain": [
       "                      Player    PTS_pre   PTS_post   PTS_diff\n",
       "173              Kelly Oubre  18.678571   0.000000 -18.678571\n",
       "167             Jusuf Nurkić   0.000000  16.714286  16.714286\n",
       "171           Keldon Johnson   1.708333  14.125000  12.416667\n",
       "146          Jerome Robinson   3.092308  14.750000  11.657692\n",
       "220           Michael Porter   5.966667  17.538462  11.571795\n",
       "297  Timothé Luwawu-Cabarrot   5.369565  15.166667   9.797101\n",
       "228         Montrezl Harrell  18.619048   9.000000  -9.619048\n",
       "302               Trey Burke   3.000000  12.142857   9.142857\n",
       "295            Thomas Bryant   9.583333  18.625000   9.041667\n",
       "308            Tyler Johnson   3.708333  12.583333   8.875000"
      ]
     },
     "execution_count": 13,
     "metadata": {},
     "output_type": "execute_result"
    }
   ],
   "source": [
    "# players with biggest change in points\n",
    "metric = 'PTS'\n",
    "pre_post_agg.sort_values(metric+'_diff_abs', ascending=False)[['Player', metric+'_pre', metric+'_post', metric+'_diff']].head(10)\n"
   ]
  },
  {
   "cell_type": "code",
   "execution_count": 14,
   "metadata": {},
   "outputs": [
    {
     "data": {
      "text/html": [
       "<div>\n",
       "<style scoped>\n",
       "    .dataframe tbody tr th:only-of-type {\n",
       "        vertical-align: middle;\n",
       "    }\n",
       "\n",
       "    .dataframe tbody tr th {\n",
       "        vertical-align: top;\n",
       "    }\n",
       "\n",
       "    .dataframe thead th {\n",
       "        text-align: right;\n",
       "    }\n",
       "</style>\n",
       "<table border=\"1\" class=\"dataframe\">\n",
       "  <thead>\n",
       "    <tr style=\"text-align: right;\">\n",
       "      <th></th>\n",
       "      <th>Player</th>\n",
       "      <th>AST_pre</th>\n",
       "      <th>AST_post</th>\n",
       "      <th>AST_diff</th>\n",
       "    </tr>\n",
       "  </thead>\n",
       "  <tbody>\n",
       "    <tr>\n",
       "      <th>167</th>\n",
       "      <td>Jusuf Nurkić</td>\n",
       "      <td>0.000000</td>\n",
       "      <td>4.000000</td>\n",
       "      <td>4.000000</td>\n",
       "    </tr>\n",
       "    <tr>\n",
       "      <th>21</th>\n",
       "      <td>Ben Simmons</td>\n",
       "      <td>8.185185</td>\n",
       "      <td>4.333333</td>\n",
       "      <td>-3.851852</td>\n",
       "    </tr>\n",
       "    <tr>\n",
       "      <th>301</th>\n",
       "      <td>Tremont Waters</td>\n",
       "      <td>1.000000</td>\n",
       "      <td>4.000000</td>\n",
       "      <td>3.000000</td>\n",
       "    </tr>\n",
       "    <tr>\n",
       "      <th>121</th>\n",
       "      <td>Ja Morant</td>\n",
       "      <td>6.704918</td>\n",
       "      <td>9.666667</td>\n",
       "      <td>2.961749</td>\n",
       "    </tr>\n",
       "    <tr>\n",
       "      <th>39</th>\n",
       "      <td>Chris Chiozza</td>\n",
       "      <td>1.500000</td>\n",
       "      <td>4.333333</td>\n",
       "      <td>2.833333</td>\n",
       "    </tr>\n",
       "    <tr>\n",
       "      <th>249</th>\n",
       "      <td>Patrick Beverley</td>\n",
       "      <td>3.729167</td>\n",
       "      <td>1.250000</td>\n",
       "      <td>-2.479167</td>\n",
       "    </tr>\n",
       "    <tr>\n",
       "      <th>33</th>\n",
       "      <td>Caris LeVert</td>\n",
       "      <td>4.076923</td>\n",
       "      <td>6.500000</td>\n",
       "      <td>2.423077</td>\n",
       "    </tr>\n",
       "    <tr>\n",
       "      <th>278</th>\n",
       "      <td>Shabazz Napier</td>\n",
       "      <td>4.147541</td>\n",
       "      <td>1.800000</td>\n",
       "      <td>-2.347541</td>\n",
       "    </tr>\n",
       "    <tr>\n",
       "      <th>192</th>\n",
       "      <td>LeBron James</td>\n",
       "      <td>10.600000</td>\n",
       "      <td>8.294118</td>\n",
       "      <td>-2.305882</td>\n",
       "    </tr>\n",
       "    <tr>\n",
       "      <th>280</th>\n",
       "      <td>Shake Milton</td>\n",
       "      <td>1.392157</td>\n",
       "      <td>3.666667</td>\n",
       "      <td>2.274510</td>\n",
       "    </tr>\n",
       "  </tbody>\n",
       "</table>\n",
       "</div>"
      ],
      "text/plain": [
       "               Player    AST_pre  AST_post  AST_diff\n",
       "167      Jusuf Nurkić   0.000000  4.000000  4.000000\n",
       "21        Ben Simmons   8.185185  4.333333 -3.851852\n",
       "301    Tremont Waters   1.000000  4.000000  3.000000\n",
       "121         Ja Morant   6.704918  9.666667  2.961749\n",
       "39      Chris Chiozza   1.500000  4.333333  2.833333\n",
       "249  Patrick Beverley   3.729167  1.250000 -2.479167\n",
       "33       Caris LeVert   4.076923  6.500000  2.423077\n",
       "278    Shabazz Napier   4.147541  1.800000 -2.347541\n",
       "192      LeBron James  10.600000  8.294118 -2.305882\n",
       "280      Shake Milton   1.392157  3.666667  2.274510"
      ]
     },
     "execution_count": 14,
     "metadata": {},
     "output_type": "execute_result"
    }
   ],
   "source": [
    "# players with biggest change in assists\n",
    "metric = 'AST'\n",
    "pre_post_agg.sort_values(metric+'_diff_abs', ascending=False)[['Player', metric+'_pre', metric+'_post', metric+'_diff']].head(10)\n"
   ]
  },
  {
   "cell_type": "code",
   "execution_count": 15,
   "metadata": {},
   "outputs": [
    {
     "data": {
      "text/html": [
       "<div>\n",
       "<style scoped>\n",
       "    .dataframe tbody tr th:only-of-type {\n",
       "        vertical-align: middle;\n",
       "    }\n",
       "\n",
       "    .dataframe tbody tr th {\n",
       "        vertical-align: top;\n",
       "    }\n",
       "\n",
       "    .dataframe thead th {\n",
       "        text-align: right;\n",
       "    }\n",
       "</style>\n",
       "<table border=\"1\" class=\"dataframe\">\n",
       "  <thead>\n",
       "    <tr style=\"text-align: right;\">\n",
       "      <th></th>\n",
       "      <th>Player</th>\n",
       "      <th>TRB_pre</th>\n",
       "      <th>TRB_post</th>\n",
       "      <th>TRB_diff</th>\n",
       "    </tr>\n",
       "  </thead>\n",
       "  <tbody>\n",
       "    <tr>\n",
       "      <th>167</th>\n",
       "      <td>Jusuf Nurkić</td>\n",
       "      <td>0.000000</td>\n",
       "      <td>11.071429</td>\n",
       "      <td>11.071429</td>\n",
       "    </tr>\n",
       "    <tr>\n",
       "      <th>114</th>\n",
       "      <td>Hassan Whiteside</td>\n",
       "      <td>13.578125</td>\n",
       "      <td>6.250000</td>\n",
       "      <td>-7.328125</td>\n",
       "    </tr>\n",
       "    <tr>\n",
       "      <th>173</th>\n",
       "      <td>Kelly Oubre</td>\n",
       "      <td>6.446429</td>\n",
       "      <td>0.000000</td>\n",
       "      <td>-6.446429</td>\n",
       "    </tr>\n",
       "    <tr>\n",
       "      <th>77</th>\n",
       "      <td>Drew Eubanks</td>\n",
       "      <td>1.296296</td>\n",
       "      <td>6.250000</td>\n",
       "      <td>4.953704</td>\n",
       "    </tr>\n",
       "    <tr>\n",
       "      <th>226</th>\n",
       "      <td>Mohamed Bamba</td>\n",
       "      <td>4.983333</td>\n",
       "      <td>0.300000</td>\n",
       "      <td>-4.683333</td>\n",
       "    </tr>\n",
       "    <tr>\n",
       "      <th>220</th>\n",
       "      <td>Michael Porter</td>\n",
       "      <td>3.316667</td>\n",
       "      <td>7.692308</td>\n",
       "      <td>4.375641</td>\n",
       "    </tr>\n",
       "    <tr>\n",
       "      <th>171</th>\n",
       "      <td>Keldon Johnson</td>\n",
       "      <td>0.708333</td>\n",
       "      <td>5.000000</td>\n",
       "      <td>4.291667</td>\n",
       "    </tr>\n",
       "    <tr>\n",
       "      <th>216</th>\n",
       "      <td>Meyers Leonard</td>\n",
       "      <td>5.061224</td>\n",
       "      <td>0.812500</td>\n",
       "      <td>-4.248724</td>\n",
       "    </tr>\n",
       "    <tr>\n",
       "      <th>115</th>\n",
       "      <td>Ian Mahinmi</td>\n",
       "      <td>4.192308</td>\n",
       "      <td>0.000000</td>\n",
       "      <td>-4.192308</td>\n",
       "    </tr>\n",
       "    <tr>\n",
       "      <th>155</th>\n",
       "      <td>Jonathan Isaac</td>\n",
       "      <td>6.937500</td>\n",
       "      <td>3.000000</td>\n",
       "      <td>-3.937500</td>\n",
       "    </tr>\n",
       "  </tbody>\n",
       "</table>\n",
       "</div>"
      ],
      "text/plain": [
       "               Player    TRB_pre   TRB_post   TRB_diff\n",
       "167      Jusuf Nurkić   0.000000  11.071429  11.071429\n",
       "114  Hassan Whiteside  13.578125   6.250000  -7.328125\n",
       "173       Kelly Oubre   6.446429   0.000000  -6.446429\n",
       "77       Drew Eubanks   1.296296   6.250000   4.953704\n",
       "226     Mohamed Bamba   4.983333   0.300000  -4.683333\n",
       "220    Michael Porter   3.316667   7.692308   4.375641\n",
       "171    Keldon Johnson   0.708333   5.000000   4.291667\n",
       "216    Meyers Leonard   5.061224   0.812500  -4.248724\n",
       "115       Ian Mahinmi   4.192308   0.000000  -4.192308\n",
       "155    Jonathan Isaac   6.937500   3.000000  -3.937500"
      ]
     },
     "execution_count": 15,
     "metadata": {},
     "output_type": "execute_result"
    }
   ],
   "source": [
    "# players with biggest change in rebounds\n",
    "metric = 'TRB'\n",
    "pre_post_agg.sort_values(metric+'_diff_abs', ascending=False)[['Player', metric+'_pre', metric+'_post', metric+'_diff']].head(10)\n",
    "\n"
   ]
  },
  {
   "cell_type": "code",
   "execution_count": 16,
   "metadata": {},
   "outputs": [
    {
     "data": {
      "text/html": [
       "<div>\n",
       "<style scoped>\n",
       "    .dataframe tbody tr th:only-of-type {\n",
       "        vertical-align: middle;\n",
       "    }\n",
       "\n",
       "    .dataframe tbody tr th {\n",
       "        vertical-align: top;\n",
       "    }\n",
       "\n",
       "    .dataframe thead th {\n",
       "        text-align: right;\n",
       "    }\n",
       "</style>\n",
       "<table border=\"1\" class=\"dataframe\">\n",
       "  <thead>\n",
       "    <tr style=\"text-align: right;\">\n",
       "      <th></th>\n",
       "      <th>Player</th>\n",
       "      <th>ORTG_pre</th>\n",
       "      <th>ORTG_post</th>\n",
       "      <th>ORTG_diff</th>\n",
       "    </tr>\n",
       "  </thead>\n",
       "  <tbody>\n",
       "    <tr>\n",
       "      <th>137</th>\n",
       "      <td>Jarrod Uthoff</td>\n",
       "      <td>16.500000</td>\n",
       "      <td>139.000000</td>\n",
       "      <td>122.500000</td>\n",
       "    </tr>\n",
       "    <tr>\n",
       "      <th>167</th>\n",
       "      <td>Jusuf Nurkić</td>\n",
       "      <td>0.000000</td>\n",
       "      <td>111.500000</td>\n",
       "      <td>111.500000</td>\n",
       "    </tr>\n",
       "    <tr>\n",
       "      <th>173</th>\n",
       "      <td>Kelly Oubre</td>\n",
       "      <td>107.767857</td>\n",
       "      <td>0.000000</td>\n",
       "      <td>-107.767857</td>\n",
       "    </tr>\n",
       "    <tr>\n",
       "      <th>313</th>\n",
       "      <td>Vincent Poirier</td>\n",
       "      <td>51.488372</td>\n",
       "      <td>157.000000</td>\n",
       "      <td>105.511628</td>\n",
       "    </tr>\n",
       "    <tr>\n",
       "      <th>237</th>\n",
       "      <td>Nigel Williams-Goss</td>\n",
       "      <td>18.875000</td>\n",
       "      <td>116.000000</td>\n",
       "      <td>97.125000</td>\n",
       "    </tr>\n",
       "    <tr>\n",
       "      <th>171</th>\n",
       "      <td>Keldon Johnson</td>\n",
       "      <td>37.583333</td>\n",
       "      <td>134.250000</td>\n",
       "      <td>96.666667</td>\n",
       "    </tr>\n",
       "    <tr>\n",
       "      <th>226</th>\n",
       "      <td>Mohamed Bamba</td>\n",
       "      <td>106.466667</td>\n",
       "      <td>11.300000</td>\n",
       "      <td>-95.166667</td>\n",
       "    </tr>\n",
       "    <tr>\n",
       "      <th>168</th>\n",
       "      <td>Juwan Morgan</td>\n",
       "      <td>34.914286</td>\n",
       "      <td>128.416667</td>\n",
       "      <td>93.502381</td>\n",
       "    </tr>\n",
       "    <tr>\n",
       "      <th>46</th>\n",
       "      <td>DaQuan Jeffries</td>\n",
       "      <td>31.700000</td>\n",
       "      <td>120.750000</td>\n",
       "      <td>89.050000</td>\n",
       "    </tr>\n",
       "    <tr>\n",
       "      <th>115</th>\n",
       "      <td>Ian Mahinmi</td>\n",
       "      <td>78.884615</td>\n",
       "      <td>0.000000</td>\n",
       "      <td>-78.884615</td>\n",
       "    </tr>\n",
       "  </tbody>\n",
       "</table>\n",
       "</div>"
      ],
      "text/plain": [
       "                  Player    ORTG_pre   ORTG_post   ORTG_diff\n",
       "137        Jarrod Uthoff   16.500000  139.000000  122.500000\n",
       "167         Jusuf Nurkić    0.000000  111.500000  111.500000\n",
       "173          Kelly Oubre  107.767857    0.000000 -107.767857\n",
       "313      Vincent Poirier   51.488372  157.000000  105.511628\n",
       "237  Nigel Williams-Goss   18.875000  116.000000   97.125000\n",
       "171       Keldon Johnson   37.583333  134.250000   96.666667\n",
       "226        Mohamed Bamba  106.466667   11.300000  -95.166667\n",
       "168         Juwan Morgan   34.914286  128.416667   93.502381\n",
       "46       DaQuan Jeffries   31.700000  120.750000   89.050000\n",
       "115          Ian Mahinmi   78.884615    0.000000  -78.884615"
      ]
     },
     "execution_count": 16,
     "metadata": {},
     "output_type": "execute_result"
    }
   ],
   "source": [
    "# players with biggest change in Offensive Rating\n",
    "metric = 'ORTG'\n",
    "pre_post_agg.sort_values(metric+'_diff_abs', ascending=False)[['Player', metric+'_pre', metric+'_post', metric+'_diff']].head(10)\n",
    "\n"
   ]
  },
  {
   "cell_type": "code",
   "execution_count": 17,
   "metadata": {},
   "outputs": [
    {
     "data": {
      "text/html": [
       "<div>\n",
       "<style scoped>\n",
       "    .dataframe tbody tr th:only-of-type {\n",
       "        vertical-align: middle;\n",
       "    }\n",
       "\n",
       "    .dataframe tbody tr th {\n",
       "        vertical-align: top;\n",
       "    }\n",
       "\n",
       "    .dataframe thead th {\n",
       "        text-align: right;\n",
       "    }\n",
       "</style>\n",
       "<table border=\"1\" class=\"dataframe\">\n",
       "  <thead>\n",
       "    <tr style=\"text-align: right;\">\n",
       "      <th></th>\n",
       "      <th>Player</th>\n",
       "      <th>DRTG_pre</th>\n",
       "      <th>DRTG_post</th>\n",
       "      <th>DRTG_diff</th>\n",
       "    </tr>\n",
       "  </thead>\n",
       "  <tbody>\n",
       "    <tr>\n",
       "      <th>167</th>\n",
       "      <td>Jusuf Nurkić</td>\n",
       "      <td>0.000000</td>\n",
       "      <td>113.071429</td>\n",
       "      <td>113.071429</td>\n",
       "    </tr>\n",
       "    <tr>\n",
       "      <th>173</th>\n",
       "      <td>Kelly Oubre</td>\n",
       "      <td>111.482143</td>\n",
       "      <td>0.000000</td>\n",
       "      <td>-111.482143</td>\n",
       "    </tr>\n",
       "    <tr>\n",
       "      <th>231</th>\n",
       "      <td>Nassir Little</td>\n",
       "      <td>83.348485</td>\n",
       "      <td>0.000000</td>\n",
       "      <td>-83.348485</td>\n",
       "    </tr>\n",
       "    <tr>\n",
       "      <th>226</th>\n",
       "      <td>Mohamed Bamba</td>\n",
       "      <td>103.666667</td>\n",
       "      <td>20.500000</td>\n",
       "      <td>-83.166667</td>\n",
       "    </tr>\n",
       "    <tr>\n",
       "      <th>115</th>\n",
       "      <td>Ian Mahinmi</td>\n",
       "      <td>82.115385</td>\n",
       "      <td>0.000000</td>\n",
       "      <td>-82.115385</td>\n",
       "    </tr>\n",
       "    <tr>\n",
       "      <th>184</th>\n",
       "      <td>Kyle Alexander</td>\n",
       "      <td>0.000000</td>\n",
       "      <td>81.666667</td>\n",
       "      <td>81.666667</td>\n",
       "    </tr>\n",
       "    <tr>\n",
       "      <th>216</th>\n",
       "      <td>Meyers Leonard</td>\n",
       "      <td>109.571429</td>\n",
       "      <td>29.437500</td>\n",
       "      <td>-80.133929</td>\n",
       "    </tr>\n",
       "    <tr>\n",
       "      <th>16</th>\n",
       "      <td>Aron Baynes</td>\n",
       "      <td>76.786885</td>\n",
       "      <td>0.000000</td>\n",
       "      <td>-76.786885</td>\n",
       "    </tr>\n",
       "    <tr>\n",
       "      <th>84</th>\n",
       "      <td>Elie Okobo</td>\n",
       "      <td>96.476923</td>\n",
       "      <td>22.200000</td>\n",
       "      <td>-74.276923</td>\n",
       "    </tr>\n",
       "    <tr>\n",
       "      <th>71</th>\n",
       "      <td>Dion Waiters</td>\n",
       "      <td>14.347826</td>\n",
       "      <td>86.538462</td>\n",
       "      <td>72.190635</td>\n",
       "    </tr>\n",
       "  </tbody>\n",
       "</table>\n",
       "</div>"
      ],
      "text/plain": [
       "             Player    DRTG_pre   DRTG_post   DRTG_diff\n",
       "167    Jusuf Nurkić    0.000000  113.071429  113.071429\n",
       "173     Kelly Oubre  111.482143    0.000000 -111.482143\n",
       "231   Nassir Little   83.348485    0.000000  -83.348485\n",
       "226   Mohamed Bamba  103.666667   20.500000  -83.166667\n",
       "115     Ian Mahinmi   82.115385    0.000000  -82.115385\n",
       "184  Kyle Alexander    0.000000   81.666667   81.666667\n",
       "216  Meyers Leonard  109.571429   29.437500  -80.133929\n",
       "16      Aron Baynes   76.786885    0.000000  -76.786885\n",
       "84       Elie Okobo   96.476923   22.200000  -74.276923\n",
       "71     Dion Waiters   14.347826   86.538462   72.190635"
      ]
     },
     "execution_count": 17,
     "metadata": {},
     "output_type": "execute_result"
    }
   ],
   "source": [
    "# players with biggest change in Defensive Rating\n",
    "metric = 'DRTG'\n",
    "pre_post_agg.sort_values(metric+'_diff_abs', ascending=False)[['Player', metric+'_pre', metric+'_post', metric+'_diff']].head(10)\n",
    "\n",
    "\n"
   ]
  },
  {
   "cell_type": "markdown",
   "metadata": {},
   "source": [
    "## Find anomalies\n",
    "Method 1: For each player, calculate the deviation for each key metric, normalized by variance"
   ]
  },
  {
   "cell_type": "code",
   "execution_count": 19,
   "metadata": {},
   "outputs": [],
   "source": [
    "# create key metrics\n",
    "key_metrics = ['Minutes', 'PTS_PM', 'AST_PM', 'TOV_PM', 'TRB_PM', 'STL_PM']\n",
    "\n",
    "player_perf_team_metrics = player_perf_team.copy()\n",
    "\n",
    "player_perf_team_metrics['PTS_PM'] = player_perf_team_metrics['PTS']/player_perf_team_metrics['Minutes']\n",
    "player_perf_team_metrics['AST_PM'] = player_perf_team_metrics['AST']/player_perf_team_metrics['Minutes']\n",
    "player_perf_team_metrics['TOV_PM'] = player_perf_team_metrics['TOV']/player_perf_team_metrics['Minutes']\n",
    "player_perf_team_metrics['TRB_PM'] = player_perf_team_metrics['TRB']/player_perf_team_metrics['Minutes']\n",
    "player_perf_team_metrics['STL_PM'] = player_perf_team_metrics['STL']/player_perf_team_metrics['Minutes']\n",
    "\n",
    "\n",
    "for m in key_metrics:\n",
    "    player_perf_team_metrics[m] = player_perf_team_metrics[m].fillna(0)"
   ]
  },
  {
   "cell_type": "code",
   "execution_count": 20,
   "metadata": {},
   "outputs": [],
   "source": [
    "# create list of players who have at least one game played in both settings and some stats for each metric\n",
    "player_list_pre = player_perf_team_metrics.loc[(player_perf_team_metrics['Minutes']>0) & (player_perf_team_metrics['bubble']==0)].Player.unique()\n",
    "player_list_post = player_perf_team_metrics.loc[(player_perf_team_metrics['Minutes']>0) & (player_perf_team_metrics['bubble']==1)].Player.unique()\n",
    "player_list_played = player_perf_team_metrics.groupby('Player').sum().reset_index()\n",
    "for metric in key_metrics:\n",
    "    player_list_played = player_list_played.loc[player_list_played[metric]>0]    \n",
    "player_list = set(player_list_pre).intersection(set(player_list_post)).intersection(set(player_list_played['Player']))"
   ]
  },
  {
   "cell_type": "code",
   "execution_count": 40,
   "metadata": {},
   "outputs": [],
   "source": [
    "# iterate through each player to find mean, std dev, and n of pre and post bubble\n",
    "\n",
    "player_test_stats = pd.DataFrame()\n",
    "idx = 0\n",
    "\n",
    "for player in player_list:\n",
    "    perf = player_perf_team_metrics.loc[player_perf_team_metrics['Player']==player]\n",
    "    pre = perf.loc[perf['bubble']==0]\n",
    "    post = perf.loc[perf['bubble']==1]\n",
    "    test_stat_sum = 0\n",
    "    player_test_stats.loc[idx, 'Player'] = player\n",
    "    \n",
    "    for metric in key_metrics:\n",
    "        pre_mean = pre[metric].mean()\n",
    "        post_mean = post[metric].mean()\n",
    "        \n",
    "        std = np.std(perf[metric], ddof=1)       \n",
    "        \n",
    "        pre_n = len(pre)\n",
    "        post_n = len(post)\n",
    "        test_stat = (post_mean - pre_mean)/np.sqrt(std**2 * (1/pre_n + 1/post_n))\n",
    "        test_stat_sum += abs(test_stat)\n",
    "        player_test_stats.loc[idx, metric+'_deviation'] = abs(test_stat)\n",
    "    \n",
    "    player_test_stats.loc[idx, 'test_stat_sum'] = test_stat_sum\n",
    "    idx += 1"
   ]
  },
  {
   "cell_type": "code",
   "execution_count": 41,
   "metadata": {},
   "outputs": [
    {
     "data": {
      "text/html": [
       "<div>\n",
       "<style scoped>\n",
       "    .dataframe tbody tr th:only-of-type {\n",
       "        vertical-align: middle;\n",
       "    }\n",
       "\n",
       "    .dataframe tbody tr th {\n",
       "        vertical-align: top;\n",
       "    }\n",
       "\n",
       "    .dataframe thead th {\n",
       "        text-align: right;\n",
       "    }\n",
       "</style>\n",
       "<table border=\"1\" class=\"dataframe\">\n",
       "  <thead>\n",
       "    <tr style=\"text-align: right;\">\n",
       "      <th></th>\n",
       "      <th>Player</th>\n",
       "      <th>Minutes_deviation</th>\n",
       "      <th>PTS_PM_deviation</th>\n",
       "      <th>AST_PM_deviation</th>\n",
       "      <th>TOV_PM_deviation</th>\n",
       "      <th>TRB_PM_deviation</th>\n",
       "      <th>STL_PM_deviation</th>\n",
       "      <th>test_stat_sum</th>\n",
       "    </tr>\n",
       "  </thead>\n",
       "  <tbody>\n",
       "    <tr>\n",
       "      <th>120</th>\n",
       "      <td>Mohamed Bamba</td>\n",
       "      <td>7.018038</td>\n",
       "      <td>4.412747</td>\n",
       "      <td>2.476134</td>\n",
       "      <td>2.458532</td>\n",
       "      <td>4.395572</td>\n",
       "      <td>0.124230</td>\n",
       "      <td>20.885252</td>\n",
       "    </tr>\n",
       "    <tr>\n",
       "      <th>38</th>\n",
       "      <td>Meyers Leonard</td>\n",
       "      <td>5.874607</td>\n",
       "      <td>3.116714</td>\n",
       "      <td>2.688943</td>\n",
       "      <td>2.228034</td>\n",
       "      <td>4.895224</td>\n",
       "      <td>0.420905</td>\n",
       "      <td>19.224427</td>\n",
       "    </tr>\n",
       "    <tr>\n",
       "      <th>172</th>\n",
       "      <td>Trey Burke</td>\n",
       "      <td>5.478960</td>\n",
       "      <td>3.104013</td>\n",
       "      <td>2.138469</td>\n",
       "      <td>1.794214</td>\n",
       "      <td>1.384440</td>\n",
       "      <td>4.384837</td>\n",
       "      <td>18.284935</td>\n",
       "    </tr>\n",
       "    <tr>\n",
       "      <th>53</th>\n",
       "      <td>JaKarr Sampson</td>\n",
       "      <td>3.007791</td>\n",
       "      <td>2.635254</td>\n",
       "      <td>4.063246</td>\n",
       "      <td>4.176418</td>\n",
       "      <td>2.195685</td>\n",
       "      <td>2.100189</td>\n",
       "      <td>18.178583</td>\n",
       "    </tr>\n",
       "    <tr>\n",
       "      <th>273</th>\n",
       "      <td>Khem Birch</td>\n",
       "      <td>1.738478</td>\n",
       "      <td>4.552328</td>\n",
       "      <td>3.625929</td>\n",
       "      <td>3.288138</td>\n",
       "      <td>3.233635</td>\n",
       "      <td>1.214957</td>\n",
       "      <td>17.653465</td>\n",
       "    </tr>\n",
       "    <tr>\n",
       "      <th>216</th>\n",
       "      <td>Keldon Johnson</td>\n",
       "      <td>4.774306</td>\n",
       "      <td>2.864954</td>\n",
       "      <td>1.283023</td>\n",
       "      <td>2.959357</td>\n",
       "      <td>1.911627</td>\n",
       "      <td>2.118678</td>\n",
       "      <td>15.911943</td>\n",
       "    </tr>\n",
       "    <tr>\n",
       "      <th>198</th>\n",
       "      <td>Dion Waiters</td>\n",
       "      <td>3.799140</td>\n",
       "      <td>2.579143</td>\n",
       "      <td>1.883952</td>\n",
       "      <td>2.332689</td>\n",
       "      <td>0.550946</td>\n",
       "      <td>2.525229</td>\n",
       "      <td>13.671098</td>\n",
       "    </tr>\n",
       "    <tr>\n",
       "      <th>262</th>\n",
       "      <td>Vincent Poirier</td>\n",
       "      <td>2.273132</td>\n",
       "      <td>0.532235</td>\n",
       "      <td>3.814382</td>\n",
       "      <td>0.943344</td>\n",
       "      <td>0.981633</td>\n",
       "      <td>4.317159</td>\n",
       "      <td>12.861886</td>\n",
       "    </tr>\n",
       "    <tr>\n",
       "      <th>11</th>\n",
       "      <td>Anfernee Simons</td>\n",
       "      <td>4.376883</td>\n",
       "      <td>3.894151</td>\n",
       "      <td>1.300349</td>\n",
       "      <td>2.091901</td>\n",
       "      <td>0.766448</td>\n",
       "      <td>0.035465</td>\n",
       "      <td>12.465196</td>\n",
       "    </tr>\n",
       "    <tr>\n",
       "      <th>296</th>\n",
       "      <td>Darius Bazley</td>\n",
       "      <td>3.514428</td>\n",
       "      <td>2.103722</td>\n",
       "      <td>1.572608</td>\n",
       "      <td>0.845448</td>\n",
       "      <td>2.641273</td>\n",
       "      <td>1.615338</td>\n",
       "      <td>12.292817</td>\n",
       "    </tr>\n",
       "  </tbody>\n",
       "</table>\n",
       "</div>"
      ],
      "text/plain": [
       "              Player  Minutes_deviation  PTS_PM_deviation  AST_PM_deviation  \\\n",
       "120    Mohamed Bamba           7.018038          4.412747          2.476134   \n",
       "38    Meyers Leonard           5.874607          3.116714          2.688943   \n",
       "172       Trey Burke           5.478960          3.104013          2.138469   \n",
       "53    JaKarr Sampson           3.007791          2.635254          4.063246   \n",
       "273       Khem Birch           1.738478          4.552328          3.625929   \n",
       "216   Keldon Johnson           4.774306          2.864954          1.283023   \n",
       "198     Dion Waiters           3.799140          2.579143          1.883952   \n",
       "262  Vincent Poirier           2.273132          0.532235          3.814382   \n",
       "11   Anfernee Simons           4.376883          3.894151          1.300349   \n",
       "296    Darius Bazley           3.514428          2.103722          1.572608   \n",
       "\n",
       "     TOV_PM_deviation  TRB_PM_deviation  STL_PM_deviation  test_stat_sum  \n",
       "120          2.458532          4.395572          0.124230      20.885252  \n",
       "38           2.228034          4.895224          0.420905      19.224427  \n",
       "172          1.794214          1.384440          4.384837      18.284935  \n",
       "53           4.176418          2.195685          2.100189      18.178583  \n",
       "273          3.288138          3.233635          1.214957      17.653465  \n",
       "216          2.959357          1.911627          2.118678      15.911943  \n",
       "198          2.332689          0.550946          2.525229      13.671098  \n",
       "262          0.943344          0.981633          4.317159      12.861886  \n",
       "11           2.091901          0.766448          0.035465      12.465196  \n",
       "296          0.845448          2.641273          1.615338      12.292817  "
      ]
     },
     "execution_count": 41,
     "metadata": {},
     "output_type": "execute_result"
    }
   ],
   "source": [
    "player_test_stats.sort_values('test_stat_sum', ascending=False, inplace=True)\n",
    "player_test_stats.head(10)"
   ]
  },
  {
   "cell_type": "code",
   "execution_count": 42,
   "metadata": {},
   "outputs": [
    {
     "data": {
      "text/plain": [
       "0.4890700259355317"
      ]
     },
     "execution_count": 42,
     "metadata": {},
     "output_type": "execute_result"
    }
   ],
   "source": [
    "player_perf_team_metrics.loc[0, 'PTS_PM']"
   ]
  },
  {
   "cell_type": "code",
   "execution_count": 56,
   "metadata": {},
   "outputs": [
    {
     "data": {
      "text/plain": [
       "Minutes_deviation    1.756480\n",
       "PTS_PM_deviation     1.114988\n",
       "AST_PM_deviation     1.069899\n",
       "TOV_PM_deviation     0.946386\n",
       "TRB_PM_deviation     1.060501\n",
       "STL_PM_deviation     0.859366\n",
       "dtype: float64"
      ]
     },
     "execution_count": 56,
     "metadata": {},
     "output_type": "execute_result"
    }
   ],
   "source": [
    "player_test_stats[key_metrics_name].mean()"
   ]
  },
  {
   "cell_type": "code",
   "execution_count": 57,
   "metadata": {},
   "outputs": [
    {
     "data": {
      "application/vnd.plotly.v1+json": {
       "config": {
        "plotlyServerURL": "https://plot.ly"
       },
       "data": [
        {
         "fill": "toself",
         "name": "Mohamed Bamba",
         "r": [
          7.018037571815998,
          4.412747022354652,
          2.476134274445133,
          2.4585322420346998,
          4.395571728569316,
          0.12422955810287985
         ],
         "theta": [
          "Minutes",
          "PTS_PM",
          "AST_PM",
          "TOV_PM",
          "TRB_PM",
          "STL_PM"
         ],
         "type": "scatterpolar"
        },
        {
         "fill": "toself",
         "name": "Meyers Leonard",
         "r": [
          5.874606563165771,
          3.116713654264871,
          2.6889433513542498,
          2.228033894672607,
          4.895223892588702,
          0.4209052865538067
         ],
         "theta": [
          "Minutes",
          "PTS_PM",
          "AST_PM",
          "TOV_PM",
          "TRB_PM",
          "STL_PM"
         ],
         "type": "scatterpolar"
        },
        {
         "fill": "toself",
         "name": "Trey Burke",
         "r": [
          5.47896031254373,
          3.104013396255292,
          2.1384689441861724,
          1.794214338904418,
          1.3844403424817158,
          4.384837253603264
         ],
         "theta": [
          "Minutes",
          "PTS_PM",
          "AST_PM",
          "TOV_PM",
          "TRB_PM",
          "STL_PM"
         ],
         "type": "scatterpolar"
        },
        {
         "fill": "toself",
         "name": "Average Player",
         "r": [
          1.756479681315416,
          1.1149878087830374,
          1.069898832841947,
          0.9463859369477559,
          1.0605005901737525,
          0.8593663979987353
         ],
         "theta": [
          "Minutes",
          "PTS_PM",
          "AST_PM",
          "TOV_PM",
          "TRB_PM",
          "STL_PM"
         ],
         "type": "scatterpolar"
        }
       ],
       "layout": {
        "polar": {
         "radialaxis": {
          "range": [
           0,
           7
          ],
          "visible": true
         }
        },
        "showlegend": false,
        "template": {
         "data": {
          "bar": [
           {
            "error_x": {
             "color": "#2a3f5f"
            },
            "error_y": {
             "color": "#2a3f5f"
            },
            "marker": {
             "line": {
              "color": "#E5ECF6",
              "width": 0.5
             }
            },
            "type": "bar"
           }
          ],
          "barpolar": [
           {
            "marker": {
             "line": {
              "color": "#E5ECF6",
              "width": 0.5
             }
            },
            "type": "barpolar"
           }
          ],
          "carpet": [
           {
            "aaxis": {
             "endlinecolor": "#2a3f5f",
             "gridcolor": "white",
             "linecolor": "white",
             "minorgridcolor": "white",
             "startlinecolor": "#2a3f5f"
            },
            "baxis": {
             "endlinecolor": "#2a3f5f",
             "gridcolor": "white",
             "linecolor": "white",
             "minorgridcolor": "white",
             "startlinecolor": "#2a3f5f"
            },
            "type": "carpet"
           }
          ],
          "choropleth": [
           {
            "colorbar": {
             "outlinewidth": 0,
             "ticks": ""
            },
            "type": "choropleth"
           }
          ],
          "contour": [
           {
            "colorbar": {
             "outlinewidth": 0,
             "ticks": ""
            },
            "colorscale": [
             [
              0,
              "#0d0887"
             ],
             [
              0.1111111111111111,
              "#46039f"
             ],
             [
              0.2222222222222222,
              "#7201a8"
             ],
             [
              0.3333333333333333,
              "#9c179e"
             ],
             [
              0.4444444444444444,
              "#bd3786"
             ],
             [
              0.5555555555555556,
              "#d8576b"
             ],
             [
              0.6666666666666666,
              "#ed7953"
             ],
             [
              0.7777777777777778,
              "#fb9f3a"
             ],
             [
              0.8888888888888888,
              "#fdca26"
             ],
             [
              1,
              "#f0f921"
             ]
            ],
            "type": "contour"
           }
          ],
          "contourcarpet": [
           {
            "colorbar": {
             "outlinewidth": 0,
             "ticks": ""
            },
            "type": "contourcarpet"
           }
          ],
          "heatmap": [
           {
            "colorbar": {
             "outlinewidth": 0,
             "ticks": ""
            },
            "colorscale": [
             [
              0,
              "#0d0887"
             ],
             [
              0.1111111111111111,
              "#46039f"
             ],
             [
              0.2222222222222222,
              "#7201a8"
             ],
             [
              0.3333333333333333,
              "#9c179e"
             ],
             [
              0.4444444444444444,
              "#bd3786"
             ],
             [
              0.5555555555555556,
              "#d8576b"
             ],
             [
              0.6666666666666666,
              "#ed7953"
             ],
             [
              0.7777777777777778,
              "#fb9f3a"
             ],
             [
              0.8888888888888888,
              "#fdca26"
             ],
             [
              1,
              "#f0f921"
             ]
            ],
            "type": "heatmap"
           }
          ],
          "heatmapgl": [
           {
            "colorbar": {
             "outlinewidth": 0,
             "ticks": ""
            },
            "colorscale": [
             [
              0,
              "#0d0887"
             ],
             [
              0.1111111111111111,
              "#46039f"
             ],
             [
              0.2222222222222222,
              "#7201a8"
             ],
             [
              0.3333333333333333,
              "#9c179e"
             ],
             [
              0.4444444444444444,
              "#bd3786"
             ],
             [
              0.5555555555555556,
              "#d8576b"
             ],
             [
              0.6666666666666666,
              "#ed7953"
             ],
             [
              0.7777777777777778,
              "#fb9f3a"
             ],
             [
              0.8888888888888888,
              "#fdca26"
             ],
             [
              1,
              "#f0f921"
             ]
            ],
            "type": "heatmapgl"
           }
          ],
          "histogram": [
           {
            "marker": {
             "colorbar": {
              "outlinewidth": 0,
              "ticks": ""
             }
            },
            "type": "histogram"
           }
          ],
          "histogram2d": [
           {
            "colorbar": {
             "outlinewidth": 0,
             "ticks": ""
            },
            "colorscale": [
             [
              0,
              "#0d0887"
             ],
             [
              0.1111111111111111,
              "#46039f"
             ],
             [
              0.2222222222222222,
              "#7201a8"
             ],
             [
              0.3333333333333333,
              "#9c179e"
             ],
             [
              0.4444444444444444,
              "#bd3786"
             ],
             [
              0.5555555555555556,
              "#d8576b"
             ],
             [
              0.6666666666666666,
              "#ed7953"
             ],
             [
              0.7777777777777778,
              "#fb9f3a"
             ],
             [
              0.8888888888888888,
              "#fdca26"
             ],
             [
              1,
              "#f0f921"
             ]
            ],
            "type": "histogram2d"
           }
          ],
          "histogram2dcontour": [
           {
            "colorbar": {
             "outlinewidth": 0,
             "ticks": ""
            },
            "colorscale": [
             [
              0,
              "#0d0887"
             ],
             [
              0.1111111111111111,
              "#46039f"
             ],
             [
              0.2222222222222222,
              "#7201a8"
             ],
             [
              0.3333333333333333,
              "#9c179e"
             ],
             [
              0.4444444444444444,
              "#bd3786"
             ],
             [
              0.5555555555555556,
              "#d8576b"
             ],
             [
              0.6666666666666666,
              "#ed7953"
             ],
             [
              0.7777777777777778,
              "#fb9f3a"
             ],
             [
              0.8888888888888888,
              "#fdca26"
             ],
             [
              1,
              "#f0f921"
             ]
            ],
            "type": "histogram2dcontour"
           }
          ],
          "mesh3d": [
           {
            "colorbar": {
             "outlinewidth": 0,
             "ticks": ""
            },
            "type": "mesh3d"
           }
          ],
          "parcoords": [
           {
            "line": {
             "colorbar": {
              "outlinewidth": 0,
              "ticks": ""
             }
            },
            "type": "parcoords"
           }
          ],
          "pie": [
           {
            "automargin": true,
            "type": "pie"
           }
          ],
          "scatter": [
           {
            "marker": {
             "colorbar": {
              "outlinewidth": 0,
              "ticks": ""
             }
            },
            "type": "scatter"
           }
          ],
          "scatter3d": [
           {
            "line": {
             "colorbar": {
              "outlinewidth": 0,
              "ticks": ""
             }
            },
            "marker": {
             "colorbar": {
              "outlinewidth": 0,
              "ticks": ""
             }
            },
            "type": "scatter3d"
           }
          ],
          "scattercarpet": [
           {
            "marker": {
             "colorbar": {
              "outlinewidth": 0,
              "ticks": ""
             }
            },
            "type": "scattercarpet"
           }
          ],
          "scattergeo": [
           {
            "marker": {
             "colorbar": {
              "outlinewidth": 0,
              "ticks": ""
             }
            },
            "type": "scattergeo"
           }
          ],
          "scattergl": [
           {
            "marker": {
             "colorbar": {
              "outlinewidth": 0,
              "ticks": ""
             }
            },
            "type": "scattergl"
           }
          ],
          "scattermapbox": [
           {
            "marker": {
             "colorbar": {
              "outlinewidth": 0,
              "ticks": ""
             }
            },
            "type": "scattermapbox"
           }
          ],
          "scatterpolar": [
           {
            "marker": {
             "colorbar": {
              "outlinewidth": 0,
              "ticks": ""
             }
            },
            "type": "scatterpolar"
           }
          ],
          "scatterpolargl": [
           {
            "marker": {
             "colorbar": {
              "outlinewidth": 0,
              "ticks": ""
             }
            },
            "type": "scatterpolargl"
           }
          ],
          "scatterternary": [
           {
            "marker": {
             "colorbar": {
              "outlinewidth": 0,
              "ticks": ""
             }
            },
            "type": "scatterternary"
           }
          ],
          "surface": [
           {
            "colorbar": {
             "outlinewidth": 0,
             "ticks": ""
            },
            "colorscale": [
             [
              0,
              "#0d0887"
             ],
             [
              0.1111111111111111,
              "#46039f"
             ],
             [
              0.2222222222222222,
              "#7201a8"
             ],
             [
              0.3333333333333333,
              "#9c179e"
             ],
             [
              0.4444444444444444,
              "#bd3786"
             ],
             [
              0.5555555555555556,
              "#d8576b"
             ],
             [
              0.6666666666666666,
              "#ed7953"
             ],
             [
              0.7777777777777778,
              "#fb9f3a"
             ],
             [
              0.8888888888888888,
              "#fdca26"
             ],
             [
              1,
              "#f0f921"
             ]
            ],
            "type": "surface"
           }
          ],
          "table": [
           {
            "cells": {
             "fill": {
              "color": "#EBF0F8"
             },
             "line": {
              "color": "white"
             }
            },
            "header": {
             "fill": {
              "color": "#C8D4E3"
             },
             "line": {
              "color": "white"
             }
            },
            "type": "table"
           }
          ]
         },
         "layout": {
          "annotationdefaults": {
           "arrowcolor": "#2a3f5f",
           "arrowhead": 0,
           "arrowwidth": 1
          },
          "coloraxis": {
           "colorbar": {
            "outlinewidth": 0,
            "ticks": ""
           }
          },
          "colorscale": {
           "diverging": [
            [
             0,
             "#8e0152"
            ],
            [
             0.1,
             "#c51b7d"
            ],
            [
             0.2,
             "#de77ae"
            ],
            [
             0.3,
             "#f1b6da"
            ],
            [
             0.4,
             "#fde0ef"
            ],
            [
             0.5,
             "#f7f7f7"
            ],
            [
             0.6,
             "#e6f5d0"
            ],
            [
             0.7,
             "#b8e186"
            ],
            [
             0.8,
             "#7fbc41"
            ],
            [
             0.9,
             "#4d9221"
            ],
            [
             1,
             "#276419"
            ]
           ],
           "sequential": [
            [
             0,
             "#0d0887"
            ],
            [
             0.1111111111111111,
             "#46039f"
            ],
            [
             0.2222222222222222,
             "#7201a8"
            ],
            [
             0.3333333333333333,
             "#9c179e"
            ],
            [
             0.4444444444444444,
             "#bd3786"
            ],
            [
             0.5555555555555556,
             "#d8576b"
            ],
            [
             0.6666666666666666,
             "#ed7953"
            ],
            [
             0.7777777777777778,
             "#fb9f3a"
            ],
            [
             0.8888888888888888,
             "#fdca26"
            ],
            [
             1,
             "#f0f921"
            ]
           ],
           "sequentialminus": [
            [
             0,
             "#0d0887"
            ],
            [
             0.1111111111111111,
             "#46039f"
            ],
            [
             0.2222222222222222,
             "#7201a8"
            ],
            [
             0.3333333333333333,
             "#9c179e"
            ],
            [
             0.4444444444444444,
             "#bd3786"
            ],
            [
             0.5555555555555556,
             "#d8576b"
            ],
            [
             0.6666666666666666,
             "#ed7953"
            ],
            [
             0.7777777777777778,
             "#fb9f3a"
            ],
            [
             0.8888888888888888,
             "#fdca26"
            ],
            [
             1,
             "#f0f921"
            ]
           ]
          },
          "colorway": [
           "#636efa",
           "#EF553B",
           "#00cc96",
           "#ab63fa",
           "#FFA15A",
           "#19d3f3",
           "#FF6692",
           "#B6E880",
           "#FF97FF",
           "#FECB52"
          ],
          "font": {
           "color": "#2a3f5f"
          },
          "geo": {
           "bgcolor": "white",
           "lakecolor": "white",
           "landcolor": "#E5ECF6",
           "showlakes": true,
           "showland": true,
           "subunitcolor": "white"
          },
          "hoverlabel": {
           "align": "left"
          },
          "hovermode": "closest",
          "mapbox": {
           "style": "light"
          },
          "paper_bgcolor": "white",
          "plot_bgcolor": "#E5ECF6",
          "polar": {
           "angularaxis": {
            "gridcolor": "white",
            "linecolor": "white",
            "ticks": ""
           },
           "bgcolor": "#E5ECF6",
           "radialaxis": {
            "gridcolor": "white",
            "linecolor": "white",
            "ticks": ""
           }
          },
          "scene": {
           "xaxis": {
            "backgroundcolor": "#E5ECF6",
            "gridcolor": "white",
            "gridwidth": 2,
            "linecolor": "white",
            "showbackground": true,
            "ticks": "",
            "zerolinecolor": "white"
           },
           "yaxis": {
            "backgroundcolor": "#E5ECF6",
            "gridcolor": "white",
            "gridwidth": 2,
            "linecolor": "white",
            "showbackground": true,
            "ticks": "",
            "zerolinecolor": "white"
           },
           "zaxis": {
            "backgroundcolor": "#E5ECF6",
            "gridcolor": "white",
            "gridwidth": 2,
            "linecolor": "white",
            "showbackground": true,
            "ticks": "",
            "zerolinecolor": "white"
           }
          },
          "shapedefaults": {
           "line": {
            "color": "#2a3f5f"
           }
          },
          "ternary": {
           "aaxis": {
            "gridcolor": "white",
            "linecolor": "white",
            "ticks": ""
           },
           "baxis": {
            "gridcolor": "white",
            "linecolor": "white",
            "ticks": ""
           },
           "bgcolor": "#E5ECF6",
           "caxis": {
            "gridcolor": "white",
            "linecolor": "white",
            "ticks": ""
           }
          },
          "title": {
           "x": 0.05
          },
          "xaxis": {
           "automargin": true,
           "gridcolor": "white",
           "linecolor": "white",
           "ticks": "",
           "title": {
            "standoff": 15
           },
           "zerolinecolor": "white",
           "zerolinewidth": 2
          },
          "yaxis": {
           "automargin": true,
           "gridcolor": "white",
           "linecolor": "white",
           "ticks": "",
           "title": {
            "standoff": 15
           },
           "zerolinecolor": "white",
           "zerolinewidth": 2
          }
         }
        }
       }
      },
      "text/html": [
       "<div>                            <div id=\"9f26131c-7d2c-4e11-a84b-840da266951b\" class=\"plotly-graph-div\" style=\"height:525px; width:100%;\"></div>            <script type=\"text/javascript\">                require([\"plotly\"], function(Plotly) {                    window.PLOTLYENV=window.PLOTLYENV || {};                                    if (document.getElementById(\"9f26131c-7d2c-4e11-a84b-840da266951b\")) {                    Plotly.newPlot(                        \"9f26131c-7d2c-4e11-a84b-840da266951b\",                        [{\"fill\": \"toself\", \"name\": \"Mohamed Bamba\", \"r\": [7.018037571815998, 4.412747022354652, 2.476134274445133, 2.4585322420346998, 4.395571728569316, 0.12422955810287985], \"theta\": [\"Minutes\", \"PTS_PM\", \"AST_PM\", \"TOV_PM\", \"TRB_PM\", \"STL_PM\"], \"type\": \"scatterpolar\"}, {\"fill\": \"toself\", \"name\": \"Meyers Leonard\", \"r\": [5.874606563165771, 3.116713654264871, 2.6889433513542498, 2.228033894672607, 4.895223892588702, 0.4209052865538067], \"theta\": [\"Minutes\", \"PTS_PM\", \"AST_PM\", \"TOV_PM\", \"TRB_PM\", \"STL_PM\"], \"type\": \"scatterpolar\"}, {\"fill\": \"toself\", \"name\": \"Trey Burke\", \"r\": [5.47896031254373, 3.104013396255292, 2.1384689441861724, 1.794214338904418, 1.3844403424817158, 4.384837253603264], \"theta\": [\"Minutes\", \"PTS_PM\", \"AST_PM\", \"TOV_PM\", \"TRB_PM\", \"STL_PM\"], \"type\": \"scatterpolar\"}, {\"fill\": \"toself\", \"name\": \"Average Player\", \"r\": [1.756479681315416, 1.1149878087830374, 1.069898832841947, 0.9463859369477559, 1.0605005901737525, 0.8593663979987353], \"theta\": [\"Minutes\", \"PTS_PM\", \"AST_PM\", \"TOV_PM\", \"TRB_PM\", \"STL_PM\"], \"type\": \"scatterpolar\"}],                        {\"polar\": {\"radialaxis\": {\"range\": [0, 7], \"visible\": true}}, \"showlegend\": false, \"template\": {\"data\": {\"bar\": [{\"error_x\": {\"color\": \"#2a3f5f\"}, \"error_y\": {\"color\": \"#2a3f5f\"}, \"marker\": {\"line\": {\"color\": \"#E5ECF6\", \"width\": 0.5}}, \"type\": \"bar\"}], \"barpolar\": [{\"marker\": {\"line\": {\"color\": \"#E5ECF6\", \"width\": 0.5}}, \"type\": \"barpolar\"}], \"carpet\": [{\"aaxis\": {\"endlinecolor\": \"#2a3f5f\", \"gridcolor\": \"white\", \"linecolor\": \"white\", \"minorgridcolor\": \"white\", \"startlinecolor\": \"#2a3f5f\"}, \"baxis\": {\"endlinecolor\": \"#2a3f5f\", \"gridcolor\": \"white\", \"linecolor\": \"white\", \"minorgridcolor\": \"white\", \"startlinecolor\": \"#2a3f5f\"}, \"type\": \"carpet\"}], \"choropleth\": [{\"colorbar\": {\"outlinewidth\": 0, \"ticks\": \"\"}, \"type\": \"choropleth\"}], \"contour\": [{\"colorbar\": {\"outlinewidth\": 0, \"ticks\": \"\"}, \"colorscale\": [[0.0, \"#0d0887\"], [0.1111111111111111, \"#46039f\"], [0.2222222222222222, \"#7201a8\"], [0.3333333333333333, \"#9c179e\"], [0.4444444444444444, \"#bd3786\"], [0.5555555555555556, \"#d8576b\"], [0.6666666666666666, \"#ed7953\"], [0.7777777777777778, \"#fb9f3a\"], [0.8888888888888888, \"#fdca26\"], [1.0, \"#f0f921\"]], \"type\": \"contour\"}], \"contourcarpet\": [{\"colorbar\": {\"outlinewidth\": 0, \"ticks\": \"\"}, \"type\": \"contourcarpet\"}], \"heatmap\": [{\"colorbar\": {\"outlinewidth\": 0, \"ticks\": \"\"}, \"colorscale\": [[0.0, \"#0d0887\"], [0.1111111111111111, \"#46039f\"], [0.2222222222222222, \"#7201a8\"], [0.3333333333333333, \"#9c179e\"], [0.4444444444444444, \"#bd3786\"], [0.5555555555555556, \"#d8576b\"], [0.6666666666666666, \"#ed7953\"], [0.7777777777777778, \"#fb9f3a\"], [0.8888888888888888, \"#fdca26\"], [1.0, \"#f0f921\"]], \"type\": \"heatmap\"}], \"heatmapgl\": [{\"colorbar\": {\"outlinewidth\": 0, \"ticks\": \"\"}, \"colorscale\": [[0.0, \"#0d0887\"], [0.1111111111111111, \"#46039f\"], [0.2222222222222222, \"#7201a8\"], [0.3333333333333333, \"#9c179e\"], [0.4444444444444444, \"#bd3786\"], [0.5555555555555556, \"#d8576b\"], [0.6666666666666666, \"#ed7953\"], [0.7777777777777778, \"#fb9f3a\"], [0.8888888888888888, \"#fdca26\"], [1.0, \"#f0f921\"]], \"type\": \"heatmapgl\"}], \"histogram\": [{\"marker\": {\"colorbar\": {\"outlinewidth\": 0, \"ticks\": \"\"}}, \"type\": \"histogram\"}], \"histogram2d\": [{\"colorbar\": {\"outlinewidth\": 0, \"ticks\": \"\"}, \"colorscale\": [[0.0, \"#0d0887\"], [0.1111111111111111, \"#46039f\"], [0.2222222222222222, \"#7201a8\"], [0.3333333333333333, \"#9c179e\"], [0.4444444444444444, \"#bd3786\"], [0.5555555555555556, \"#d8576b\"], [0.6666666666666666, \"#ed7953\"], [0.7777777777777778, \"#fb9f3a\"], [0.8888888888888888, \"#fdca26\"], [1.0, \"#f0f921\"]], \"type\": \"histogram2d\"}], \"histogram2dcontour\": [{\"colorbar\": {\"outlinewidth\": 0, \"ticks\": \"\"}, \"colorscale\": [[0.0, \"#0d0887\"], [0.1111111111111111, \"#46039f\"], [0.2222222222222222, \"#7201a8\"], [0.3333333333333333, \"#9c179e\"], [0.4444444444444444, \"#bd3786\"], [0.5555555555555556, \"#d8576b\"], [0.6666666666666666, \"#ed7953\"], [0.7777777777777778, \"#fb9f3a\"], [0.8888888888888888, \"#fdca26\"], [1.0, \"#f0f921\"]], \"type\": \"histogram2dcontour\"}], \"mesh3d\": [{\"colorbar\": {\"outlinewidth\": 0, \"ticks\": \"\"}, \"type\": \"mesh3d\"}], \"parcoords\": [{\"line\": {\"colorbar\": {\"outlinewidth\": 0, \"ticks\": \"\"}}, \"type\": \"parcoords\"}], \"pie\": [{\"automargin\": true, \"type\": \"pie\"}], \"scatter\": [{\"marker\": {\"colorbar\": {\"outlinewidth\": 0, \"ticks\": \"\"}}, \"type\": \"scatter\"}], \"scatter3d\": [{\"line\": {\"colorbar\": {\"outlinewidth\": 0, \"ticks\": \"\"}}, \"marker\": {\"colorbar\": {\"outlinewidth\": 0, \"ticks\": \"\"}}, \"type\": \"scatter3d\"}], \"scattercarpet\": [{\"marker\": {\"colorbar\": {\"outlinewidth\": 0, \"ticks\": \"\"}}, \"type\": \"scattercarpet\"}], \"scattergeo\": [{\"marker\": {\"colorbar\": {\"outlinewidth\": 0, \"ticks\": \"\"}}, \"type\": \"scattergeo\"}], \"scattergl\": [{\"marker\": {\"colorbar\": {\"outlinewidth\": 0, \"ticks\": \"\"}}, \"type\": \"scattergl\"}], \"scattermapbox\": [{\"marker\": {\"colorbar\": {\"outlinewidth\": 0, \"ticks\": \"\"}}, \"type\": \"scattermapbox\"}], \"scatterpolar\": [{\"marker\": {\"colorbar\": {\"outlinewidth\": 0, \"ticks\": \"\"}}, \"type\": \"scatterpolar\"}], \"scatterpolargl\": [{\"marker\": {\"colorbar\": {\"outlinewidth\": 0, \"ticks\": \"\"}}, \"type\": \"scatterpolargl\"}], \"scatterternary\": [{\"marker\": {\"colorbar\": {\"outlinewidth\": 0, \"ticks\": \"\"}}, \"type\": \"scatterternary\"}], \"surface\": [{\"colorbar\": {\"outlinewidth\": 0, \"ticks\": \"\"}, \"colorscale\": [[0.0, \"#0d0887\"], [0.1111111111111111, \"#46039f\"], [0.2222222222222222, \"#7201a8\"], [0.3333333333333333, \"#9c179e\"], [0.4444444444444444, \"#bd3786\"], [0.5555555555555556, \"#d8576b\"], [0.6666666666666666, \"#ed7953\"], [0.7777777777777778, \"#fb9f3a\"], [0.8888888888888888, \"#fdca26\"], [1.0, \"#f0f921\"]], \"type\": \"surface\"}], \"table\": [{\"cells\": {\"fill\": {\"color\": \"#EBF0F8\"}, \"line\": {\"color\": \"white\"}}, \"header\": {\"fill\": {\"color\": \"#C8D4E3\"}, \"line\": {\"color\": \"white\"}}, \"type\": \"table\"}]}, \"layout\": {\"annotationdefaults\": {\"arrowcolor\": \"#2a3f5f\", \"arrowhead\": 0, \"arrowwidth\": 1}, \"coloraxis\": {\"colorbar\": {\"outlinewidth\": 0, \"ticks\": \"\"}}, \"colorscale\": {\"diverging\": [[0, \"#8e0152\"], [0.1, \"#c51b7d\"], [0.2, \"#de77ae\"], [0.3, \"#f1b6da\"], [0.4, \"#fde0ef\"], [0.5, \"#f7f7f7\"], [0.6, \"#e6f5d0\"], [0.7, \"#b8e186\"], [0.8, \"#7fbc41\"], [0.9, \"#4d9221\"], [1, \"#276419\"]], \"sequential\": [[0.0, \"#0d0887\"], [0.1111111111111111, \"#46039f\"], [0.2222222222222222, \"#7201a8\"], [0.3333333333333333, \"#9c179e\"], [0.4444444444444444, \"#bd3786\"], [0.5555555555555556, \"#d8576b\"], [0.6666666666666666, \"#ed7953\"], [0.7777777777777778, \"#fb9f3a\"], [0.8888888888888888, \"#fdca26\"], [1.0, \"#f0f921\"]], \"sequentialminus\": [[0.0, \"#0d0887\"], [0.1111111111111111, \"#46039f\"], [0.2222222222222222, \"#7201a8\"], [0.3333333333333333, \"#9c179e\"], [0.4444444444444444, \"#bd3786\"], [0.5555555555555556, \"#d8576b\"], [0.6666666666666666, \"#ed7953\"], [0.7777777777777778, \"#fb9f3a\"], [0.8888888888888888, \"#fdca26\"], [1.0, \"#f0f921\"]]}, \"colorway\": [\"#636efa\", \"#EF553B\", \"#00cc96\", \"#ab63fa\", \"#FFA15A\", \"#19d3f3\", \"#FF6692\", \"#B6E880\", \"#FF97FF\", \"#FECB52\"], \"font\": {\"color\": \"#2a3f5f\"}, \"geo\": {\"bgcolor\": \"white\", \"lakecolor\": \"white\", \"landcolor\": \"#E5ECF6\", \"showlakes\": true, \"showland\": true, \"subunitcolor\": \"white\"}, \"hoverlabel\": {\"align\": \"left\"}, \"hovermode\": \"closest\", \"mapbox\": {\"style\": \"light\"}, \"paper_bgcolor\": \"white\", \"plot_bgcolor\": \"#E5ECF6\", \"polar\": {\"angularaxis\": {\"gridcolor\": \"white\", \"linecolor\": \"white\", \"ticks\": \"\"}, \"bgcolor\": \"#E5ECF6\", \"radialaxis\": {\"gridcolor\": \"white\", \"linecolor\": \"white\", \"ticks\": \"\"}}, \"scene\": {\"xaxis\": {\"backgroundcolor\": \"#E5ECF6\", \"gridcolor\": \"white\", \"gridwidth\": 2, \"linecolor\": \"white\", \"showbackground\": true, \"ticks\": \"\", \"zerolinecolor\": \"white\"}, \"yaxis\": {\"backgroundcolor\": \"#E5ECF6\", \"gridcolor\": \"white\", \"gridwidth\": 2, \"linecolor\": \"white\", \"showbackground\": true, \"ticks\": \"\", \"zerolinecolor\": \"white\"}, \"zaxis\": {\"backgroundcolor\": \"#E5ECF6\", \"gridcolor\": \"white\", \"gridwidth\": 2, \"linecolor\": \"white\", \"showbackground\": true, \"ticks\": \"\", \"zerolinecolor\": \"white\"}}, \"shapedefaults\": {\"line\": {\"color\": \"#2a3f5f\"}}, \"ternary\": {\"aaxis\": {\"gridcolor\": \"white\", \"linecolor\": \"white\", \"ticks\": \"\"}, \"baxis\": {\"gridcolor\": \"white\", \"linecolor\": \"white\", \"ticks\": \"\"}, \"bgcolor\": \"#E5ECF6\", \"caxis\": {\"gridcolor\": \"white\", \"linecolor\": \"white\", \"ticks\": \"\"}}, \"title\": {\"x\": 0.05}, \"xaxis\": {\"automargin\": true, \"gridcolor\": \"white\", \"linecolor\": \"white\", \"ticks\": \"\", \"title\": {\"standoff\": 15}, \"zerolinecolor\": \"white\", \"zerolinewidth\": 2}, \"yaxis\": {\"automargin\": true, \"gridcolor\": \"white\", \"linecolor\": \"white\", \"ticks\": \"\", \"title\": {\"standoff\": 15}, \"zerolinecolor\": \"white\", \"zerolinewidth\": 2}}}},                        {\"responsive\": true}                    ).then(function(){\n",
       "                            \n",
       "var gd = document.getElementById('9f26131c-7d2c-4e11-a84b-840da266951b');\n",
       "var x = new MutationObserver(function (mutations, observer) {{\n",
       "        var display = window.getComputedStyle(gd).display;\n",
       "        if (!display || display === 'none') {{\n",
       "            console.log([gd, 'removed!']);\n",
       "            Plotly.purge(gd);\n",
       "            observer.disconnect();\n",
       "        }}\n",
       "}});\n",
       "\n",
       "// Listen for the removal of the full notebook cells\n",
       "var notebookContainer = gd.closest('#notebook-container');\n",
       "if (notebookContainer) {{\n",
       "    x.observe(notebookContainer, {childList: true});\n",
       "}}\n",
       "\n",
       "// Listen for the clearing of the current output cell\n",
       "var outputEl = gd.closest('.output');\n",
       "if (outputEl) {{\n",
       "    x.observe(outputEl, {childList: true});\n",
       "}}\n",
       "\n",
       "                        })                };                });            </script>        </div>"
      ]
     },
     "metadata": {},
     "output_type": "display_data"
    }
   ],
   "source": [
    "import plotly.graph_objects as go\n",
    "\n",
    "categories = key_metrics\n",
    "key_metrics_name = [x+'_deviation' for x in key_metrics]\n",
    "\n",
    "fig = go.Figure()\n",
    "\n",
    "#add top 3 players\n",
    "for idx, row in player_test_stats.head(3).iterrows():\n",
    "    fig.add_trace(go.Scatterpolar(\n",
    "          r=row[key_metrics_name].values,\n",
    "          theta=categories,\n",
    "          fill='toself',\n",
    "          name=row['Player']\n",
    "    ))\n",
    "    \n",
    "# add average of everyone else    \n",
    "fig.add_trace(go.Scatterpolar(\n",
    "      r=player_test_stats[key_metrics_name].mean().values,\n",
    "      theta=categories,\n",
    "      fill='toself',\n",
    "      name='Average Player'\n",
    "))\n",
    "\n",
    "fig.update_layout(\n",
    "  polar=dict(\n",
    "    radialaxis=dict(\n",
    "      visible=True,\n",
    "      range=[0, 7]\n",
    "    )),\n",
    "  showlegend=False\n",
    ")\n",
    "\n",
    "fig.show()"
   ]
  },
  {
   "cell_type": "code",
   "execution_count": 49,
   "metadata": {},
   "outputs": [
    {
     "data": {
      "text/plain": [
       "array([7.018037571815998, 4.412747022354652, 2.476134274445133,\n",
       "       2.4585322420346998, 4.395571728569316, 0.12422955810287985],\n",
       "      dtype=object)"
      ]
     },
     "execution_count": 49,
     "metadata": {},
     "output_type": "execute_result"
    }
   ],
   "source": [
    "row[key_metrics_name].values"
   ]
  },
  {
   "cell_type": "code",
   "execution_count": null,
   "metadata": {},
   "outputs": [],
   "source": []
  }
 ],
 "metadata": {
  "kernelspec": {
   "display_name": "Python 3",
   "language": "python",
   "name": "python3"
  },
  "language_info": {
   "codemirror_mode": {
    "name": "ipython",
    "version": 3
   },
   "file_extension": ".py",
   "mimetype": "text/x-python",
   "name": "python",
   "nbconvert_exporter": "python",
   "pygments_lexer": "ipython3",
   "version": "3.7.3"
  }
 },
 "nbformat": 4,
 "nbformat_minor": 2
}
