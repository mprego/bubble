{
 "cells": [
  {
   "cell_type": "markdown",
   "metadata": {},
   "source": [
    "# 2. Analysis of Home Advantage\n",
    "\n",
    "Looks at whether the home team has some advantage and if that changed before and after the bubble.\n",
    "\n",
    "Look at home team winning percentage before and after the bubble using:\n",
    "- graphing home winning percentage by date\n",
    "- t-test of before and after bubble\n",
    "- bayesian model of when winning percentage changes"
   ]
  },
  {
   "cell_type": "code",
   "execution_count": 1,
   "metadata": {},
   "outputs": [],
   "source": [
    "import pandas as pd\n",
    "import numpy as np\n",
    "import datetime\n",
    "import matplotlib.pyplot as plt"
   ]
  },
  {
   "cell_type": "markdown",
   "metadata": {},
   "source": [
    "## Read in and Manipulate Data"
   ]
  },
  {
   "cell_type": "code",
   "execution_count": 2,
   "metadata": {},
   "outputs": [],
   "source": [
    "# Read in data\n",
    "schedule = pd.read_csv('data/schedule_2020.csv')\n",
    "# team_perf = pd.read_csv('data/team_perf_2020.csv')\n",
    "# player_info = pd.read_csv('data/players_2020.csv')\n",
    "# player_perf = pd.read_csv('data/player_perf_2020.csv')"
   ]
  },
  {
   "cell_type": "code",
   "execution_count": 3,
   "metadata": {},
   "outputs": [],
   "source": [
    "# convert date to date type\n",
    "schedule['Date'] = pd.to_datetime(schedule['Date'])"
   ]
  },
  {
   "cell_type": "code",
   "execution_count": 4,
   "metadata": {},
   "outputs": [
    {
     "name": "stdout",
     "output_type": "stream",
     "text": [
      "True     610\n",
      "False    497\n",
      "Name: home_win, dtype: int64\n",
      "0.5510388437217706\n"
     ]
    }
   ],
   "source": [
    "# add home team win indicator\n",
    "schedule['home_win'] = schedule['Home Points'] > schedule['Visitor Points']\n",
    "print (schedule['home_win'].value_counts())\n",
    "print (schedule['home_win'].mean())"
   ]
  },
  {
   "cell_type": "code",
   "execution_count": 5,
   "metadata": {},
   "outputs": [
    {
     "data": {
      "text/html": [
       "<div>\n",
       "<style scoped>\n",
       "    .dataframe tbody tr th:only-of-type {\n",
       "        vertical-align: middle;\n",
       "    }\n",
       "\n",
       "    .dataframe tbody tr th {\n",
       "        vertical-align: top;\n",
       "    }\n",
       "\n",
       "    .dataframe thead th {\n",
       "        text-align: right;\n",
       "    }\n",
       "</style>\n",
       "<table border=\"1\" class=\"dataframe\">\n",
       "  <thead>\n",
       "    <tr style=\"text-align: right;\">\n",
       "      <th></th>\n",
       "      <th></th>\n",
       "      <th>home_win</th>\n",
       "    </tr>\n",
       "    <tr>\n",
       "      <th>bubble</th>\n",
       "      <th>playoff</th>\n",
       "      <th></th>\n",
       "    </tr>\n",
       "  </thead>\n",
       "  <tbody>\n",
       "    <tr>\n",
       "      <th>0</th>\n",
       "      <th>0</th>\n",
       "      <td>0.550978</td>\n",
       "    </tr>\n",
       "    <tr>\n",
       "      <th rowspan=\"2\" valign=\"top\">1</th>\n",
       "      <th>0</th>\n",
       "      <td>0.556818</td>\n",
       "    </tr>\n",
       "    <tr>\n",
       "      <th>1</th>\n",
       "      <td>0.541667</td>\n",
       "    </tr>\n",
       "  </tbody>\n",
       "</table>\n",
       "</div>"
      ],
      "text/plain": [
       "                home_win\n",
       "bubble playoff          \n",
       "0      0        0.550978\n",
       "1      0        0.556818\n",
       "       1        0.541667"
      ]
     },
     "execution_count": 5,
     "metadata": {},
     "output_type": "execute_result"
    }
   ],
   "source": [
    "schedule.groupby(['bubble', 'playoff']).agg({'home_win':'mean'})"
   ]
  },
  {
   "cell_type": "markdown",
   "metadata": {},
   "source": [
    "## Graph of moving average of winning percentage"
   ]
  },
  {
   "cell_type": "code",
   "execution_count": 6,
   "metadata": {},
   "outputs": [
    {
     "name": "stdout",
     "output_type": "stream",
     "text": [
      "2019-10-25 00:00:00\n",
      "2019-10-15 00:00:00\n"
     ]
    }
   ],
   "source": [
    "d = schedule.loc[20, 'Date']\n",
    "print(d)\n",
    "print(d-datetime.timedelta(days=10))"
   ]
  },
  {
   "cell_type": "code",
   "execution_count": 7,
   "metadata": {},
   "outputs": [],
   "source": [
    "# calculate 10 day moving average of home winning percentage\n",
    "schedule = schedule.sort_values('Date')\n",
    "schedule['home_win_p_ma_10'] = None\n",
    "for idx, row in schedule.iterrows():\n",
    "    subset = schedule.loc[(schedule['Date']<=row['Date']) & (schedule['Date']>=(row['Date'] - datetime.timedelta(days=10)))]\n",
    "    schedule.loc[idx, 'home_win_p_ma_10'] = subset['home_win'].mean()\n",
    "    "
   ]
  },
  {
   "cell_type": "code",
   "execution_count": 8,
   "metadata": {},
   "outputs": [
    {
     "data": {
      "text/html": [
       "<div>\n",
       "<style scoped>\n",
       "    .dataframe tbody tr th:only-of-type {\n",
       "        vertical-align: middle;\n",
       "    }\n",
       "\n",
       "    .dataframe tbody tr th {\n",
       "        vertical-align: top;\n",
       "    }\n",
       "\n",
       "    .dataframe thead th {\n",
       "        text-align: right;\n",
       "    }\n",
       "</style>\n",
       "<table border=\"1\" class=\"dataframe\">\n",
       "  <thead>\n",
       "    <tr style=\"text-align: right;\">\n",
       "      <th></th>\n",
       "      <th>Date</th>\n",
       "      <th>home_win_p_ma_10</th>\n",
       "    </tr>\n",
       "  </thead>\n",
       "  <tbody>\n",
       "    <tr>\n",
       "      <th>0</th>\n",
       "      <td>2019-10-22</td>\n",
       "      <td>1.000000</td>\n",
       "    </tr>\n",
       "    <tr>\n",
       "      <th>1</th>\n",
       "      <td>2019-10-23</td>\n",
       "      <td>0.769231</td>\n",
       "    </tr>\n",
       "    <tr>\n",
       "      <th>2</th>\n",
       "      <td>2019-10-24</td>\n",
       "      <td>0.625000</td>\n",
       "    </tr>\n",
       "    <tr>\n",
       "      <th>3</th>\n",
       "      <td>2019-10-25</td>\n",
       "      <td>0.560000</td>\n",
       "    </tr>\n",
       "    <tr>\n",
       "      <th>4</th>\n",
       "      <td>2019-10-26</td>\n",
       "      <td>0.571429</td>\n",
       "    </tr>\n",
       "  </tbody>\n",
       "</table>\n",
       "</div>"
      ],
      "text/plain": [
       "        Date  home_win_p_ma_10\n",
       "0 2019-10-22          1.000000\n",
       "1 2019-10-23          0.769231\n",
       "2 2019-10-24          0.625000\n",
       "3 2019-10-25          0.560000\n",
       "4 2019-10-26          0.571429"
      ]
     },
     "execution_count": 8,
     "metadata": {},
     "output_type": "execute_result"
    }
   ],
   "source": [
    "# reduce to unique dates\n",
    "h_win_per_date = schedule.groupby('Date').agg({'home_win_p_ma_10':'max'}).reset_index()\n",
    "h_win_per_date.head()"
   ]
  },
  {
   "cell_type": "code",
   "execution_count": 9,
   "metadata": {},
   "outputs": [
    {
     "data": {
      "image/png": "[encoded data removed]",
      "text/plain": [
       "<Figure size 432x288 with 1 Axes>"
      ]
     },
     "metadata": {
      "needs_background": "light"
     },
     "output_type": "display_data"
    }
   ],
   "source": [
    "plt.plot(h_win_per_date['Date'], h_win_per_date['home_win_p_ma_10'])\n",
    "plt.show()"
   ]
  },
  {
   "cell_type": "markdown",
   "metadata": {},
   "source": [
    "## t-test of before and after the bubble"
   ]
  },
  {
   "cell_type": "code",
   "execution_count": 36,
   "metadata": {},
   "outputs": [],
   "source": [
    "import statsmodels.api as sm"
   ]
  },
  {
   "cell_type": "code",
   "execution_count": 13,
   "metadata": {},
   "outputs": [
    {
     "name": "stdout",
     "output_type": "stream",
     "text": [
      "-0.010798721418801806 0.9913840343585684\n"
     ]
    }
   ],
   "source": [
    "normal = schedule.loc[schedule['bubble']==0]['home_win']\n",
    "bubble = schedule.loc[schedule['bubble']==1]['home_win']\n",
    "test_stat, p_value = statsmodels.stats.weightstats.ztest(x1=normal, x2=bubble)\n",
    "print (test_stat, p_value)"
   ]
  },
  {
   "cell_type": "code",
   "execution_count": null,
   "metadata": {},
   "outputs": [],
   "source": [
    "normal = schedule.loc[schedule['bubble']==0]['home_win']\n",
    "bubble = schedule.loc[(schedule['bubble']==1) & (schedule['playoff']==0)]['home_win']\n",
    "test_stat, p_value = statsmodels.stats.weightstats.ztest(x1=normal, x2=bubble)\n",
    "print (test_stat, p_value)"
   ]
  },
  {
   "cell_type": "markdown",
   "metadata": {},
   "source": [
    "## Bayesian Model of win rate"
   ]
  },
  {
   "cell_type": "code",
   "execution_count": 11,
   "metadata": {},
   "outputs": [],
   "source": [
    "import pymc3 as pm\n",
    "import theano.tensor as tt"
   ]
  },
  {
   "cell_type": "code",
   "execution_count": 45,
   "metadata": {},
   "outputs": [],
   "source": [
    "# represent each win to follow a bernoulli probability with probability p\n",
    "# p0 = normal(u,1)\n",
    "# p1 = normal(u,1)\n",
    "# switch over at tau which has a uniform distribution between 0 and 355\n",
    "\n",
    "with pm.Model() as model:\n",
    "    u = 0.55  # Recall count_data is the\n",
    "\n",
    "    p_1 = pm.Normal(\"p_1\", u)\n",
    "    p_2 = pm.Normal(\"p_2\", u)\n",
    "\n",
    "    tau = pm.DiscreteUniform(\"tau\", lower=0, upper=len(schedule))"
   ]
  },
  {
   "cell_type": "code",
   "execution_count": 46,
   "metadata": {},
   "outputs": [],
   "source": [
    "with model:\n",
    "    idx = np.arange(len(schedule_v2)) # Index\n",
    "    p_ = pm.math.switch(tau > idx, p_1, p_2)"
   ]
  },
  {
   "cell_type": "code",
   "execution_count": 47,
   "metadata": {
    "scrolled": true
   },
   "outputs": [],
   "source": [
    "with model:\n",
    "    observation = pm.Bernoulli(\"obs\", p_, observed=schedule['home_win'])"
   ]
  },
  {
   "cell_type": "code",
   "execution_count": 48,
   "metadata": {},
   "outputs": [
    {
     "name": "stderr",
     "output_type": "stream",
     "text": [
      "Multiprocess sampling (2 chains in 2 jobs)\n",
      "CompoundStep\n",
      ">Metropolis: [tau]\n",
      ">Metropolis: [p_2]\n",
      ">Metropolis: [p_1]\n",
      "Sampling 2 chains: 100%|██████████| 30000/30000 [00:09<00:00, 3314.72draws/s]\n",
      "The estimated number of effective samples is smaller than 200 for some parameters.\n"
     ]
    }
   ],
   "source": [
    "### Mysterious code to be explained in Chapter 3.\n",
    "with model:\n",
    "    step = pm.Metropolis()\n",
    "    trace = pm.sample(10000, tune=5000,step=step)"
   ]
  },
  {
   "cell_type": "code",
   "execution_count": 49,
   "metadata": {},
   "outputs": [],
   "source": [
    "p_1_samples = trace['p_1']\n",
    "p_2_samples = trace['p_2']\n",
    "tau_samples = trace['tau']"
   ]
  },
  {
   "cell_type": "code",
   "execution_count": 50,
   "metadata": {},
   "outputs": [],
   "source": [
    "from IPython.core.pylabtools import figsize"
   ]
  },
  {
   "cell_type": "code",
   "execution_count": 54,
   "metadata": {},
   "outputs": [
    {
     "data": {
      "image/png": "[encoded data removed]",
      "text/plain": [
       "<Figure size 900x720 with 3 Axes>"
      ]
     },
     "metadata": {
      "needs_background": "light"
     },
     "output_type": "display_data"
    }
   ],
   "source": [
    "figsize(12.5, 10)\n",
    "#histogram of the samples:\n",
    "\n",
    "ax = plt.subplot(311)\n",
    "ax.set_autoscaley_on(False)\n",
    "\n",
    "plt.hist(p_1_samples, histtype='stepfilled', bins=30,\n",
    "         label=\"posterior of p_1\", color=\"#A60628\", density=True)\n",
    "plt.legend(loc=\"upper left\")\n",
    "# plt.title(r\"\"\"Posterior distributions of the variables\n",
    "#     p_1,\\;\\p_2,\\;\\tau$\"\"\")\n",
    "plt.xlim([0, 1])\n",
    "# plt.xlabel(\"$\\p_1$ value\")\n",
    "\n",
    "ax = plt.subplot(312)\n",
    "ax.set_autoscaley_on(False)\n",
    "plt.hist(p_2_samples, histtype='stepfilled', bins=30, alpha=0.85,\n",
    "         label=\"posterior of p_2\", color=\"#7A68A6\", density=True)\n",
    "plt.legend(loc=\"upper left\")\n",
    "plt.xlim([0, 1])\n",
    "# plt.xlabel(\"$\\p_2$ value\")\n",
    "\n",
    "plt.subplot(313)\n",
    "w = 1.0 / tau_samples.shape[0] * np.ones_like(tau_samples)\n",
    "plt.hist(tau_samples, bins=len(schedule_v2), alpha=1,\n",
    "         label=r\"posterior of tau\",\n",
    "         color=\"#467821\", weights=w, rwidth=2.)\n",
    "plt.xticks(np.arange(len(schedule_v2)))\n",
    "\n",
    "plt.legend(loc=\"upper left\")\n",
    "plt.ylim([0, .75])\n",
    "plt.xlim([35, len(schedule_v2)-20])\n",
    "# plt.xlabel(r\"$\\tau$ (in days)\")\n",
    "plt.ylabel(\"probability\");"
   ]
  },
  {
   "cell_type": "markdown",
   "metadata": {},
   "source": [
    "## Paired t-test"
   ]
  },
  {
   "cell_type": "code",
   "execution_count": 61,
   "metadata": {},
   "outputs": [
    {
     "data": {
      "text/html": [
       "<div>\n",
       "<style scoped>\n",
       "    .dataframe tbody tr th:only-of-type {\n",
       "        vertical-align: middle;\n",
       "    }\n",
       "\n",
       "    .dataframe tbody tr th {\n",
       "        vertical-align: top;\n",
       "    }\n",
       "\n",
       "    .dataframe thead th {\n",
       "        text-align: right;\n",
       "    }\n",
       "</style>\n",
       "<table border=\"1\" class=\"dataframe\">\n",
       "  <thead>\n",
       "    <tr style=\"text-align: right;\">\n",
       "      <th></th>\n",
       "      <th>Home Team</th>\n",
       "      <th>bubble_pre</th>\n",
       "      <th>home_win_pre</th>\n",
       "      <th>bubble_bubble</th>\n",
       "      <th>home_win_bubble</th>\n",
       "    </tr>\n",
       "  </thead>\n",
       "  <tbody>\n",
       "    <tr>\n",
       "      <th>0</th>\n",
       "      <td>Atlanta Hawks</td>\n",
       "      <td>0</td>\n",
       "      <td>0.411765</td>\n",
       "      <td>NaN</td>\n",
       "      <td>NaN</td>\n",
       "    </tr>\n",
       "    <tr>\n",
       "      <th>1</th>\n",
       "      <td>Boston Celtics</td>\n",
       "      <td>0</td>\n",
       "      <td>0.718750</td>\n",
       "      <td>1.0</td>\n",
       "      <td>0.833333</td>\n",
       "    </tr>\n",
       "    <tr>\n",
       "      <th>2</th>\n",
       "      <td>Brooklyn Nets</td>\n",
       "      <td>0</td>\n",
       "      <td>0.562500</td>\n",
       "      <td>1.0</td>\n",
       "      <td>0.333333</td>\n",
       "    </tr>\n",
       "    <tr>\n",
       "      <th>3</th>\n",
       "      <td>Charlotte Hornets</td>\n",
       "      <td>0</td>\n",
       "      <td>0.322581</td>\n",
       "      <td>NaN</td>\n",
       "      <td>NaN</td>\n",
       "    </tr>\n",
       "    <tr>\n",
       "      <th>4</th>\n",
       "      <td>Chicago Bulls</td>\n",
       "      <td>0</td>\n",
       "      <td>0.411765</td>\n",
       "      <td>NaN</td>\n",
       "      <td>NaN</td>\n",
       "    </tr>\n",
       "  </tbody>\n",
       "</table>\n",
       "</div>"
      ],
      "text/plain": [
       "           Home Team  bubble_pre  home_win_pre  bubble_bubble  home_win_bubble\n",
       "0      Atlanta Hawks           0      0.411765            NaN              NaN\n",
       "1     Boston Celtics           0      0.718750            1.0         0.833333\n",
       "2      Brooklyn Nets           0      0.562500            1.0         0.333333\n",
       "3  Charlotte Hornets           0      0.322581            NaN              NaN\n",
       "4      Chicago Bulls           0      0.411765            NaN              NaN"
      ]
     },
     "execution_count": 61,
     "metadata": {},
     "output_type": "execute_result"
    }
   ],
   "source": [
    "# create columns for pre-bubble and post-bubble wins\n",
    "schedule_by_team = schedule.groupby(['Home Team', 'bubble']).agg({'home_win':'mean'}).reset_index()\n",
    "schedule_by_team_pre = schedule_by_team.loc[schedule_by_team['bubble']==0]\n",
    "schedule_by_team_bubble = schedule_by_team.loc[schedule_by_team['bubble']==1]\n",
    "perf_by_team = pd.merge(schedule_by_team_pre, schedule_by_team_bubble, on='Home Team', how='outer', suffixes=['_pre', '_bubble'])\n",
    "perf_by_team.head()"
   ]
  },
  {
   "cell_type": "code",
   "execution_count": 62,
   "metadata": {},
   "outputs": [
    {
     "data": {
      "text/html": [
       "<div>\n",
       "<style scoped>\n",
       "    .dataframe tbody tr th:only-of-type {\n",
       "        vertical-align: middle;\n",
       "    }\n",
       "\n",
       "    .dataframe tbody tr th {\n",
       "        vertical-align: top;\n",
       "    }\n",
       "\n",
       "    .dataframe thead th {\n",
       "        text-align: right;\n",
       "    }\n",
       "</style>\n",
       "<table border=\"1\" class=\"dataframe\">\n",
       "  <thead>\n",
       "    <tr style=\"text-align: right;\">\n",
       "      <th></th>\n",
       "      <th>Home Team</th>\n",
       "      <th>bubble_pre</th>\n",
       "      <th>home_win_pre</th>\n",
       "      <th>bubble_bubble</th>\n",
       "      <th>home_win_bubble</th>\n",
       "    </tr>\n",
       "  </thead>\n",
       "  <tbody>\n",
       "    <tr>\n",
       "      <th>0</th>\n",
       "      <td>Atlanta Hawks</td>\n",
       "      <td>0</td>\n",
       "      <td>0.411765</td>\n",
       "      <td>NaN</td>\n",
       "      <td>NaN</td>\n",
       "    </tr>\n",
       "    <tr>\n",
       "      <th>3</th>\n",
       "      <td>Charlotte Hornets</td>\n",
       "      <td>0</td>\n",
       "      <td>0.322581</td>\n",
       "      <td>NaN</td>\n",
       "      <td>NaN</td>\n",
       "    </tr>\n",
       "    <tr>\n",
       "      <th>4</th>\n",
       "      <td>Chicago Bulls</td>\n",
       "      <td>0</td>\n",
       "      <td>0.411765</td>\n",
       "      <td>NaN</td>\n",
       "      <td>NaN</td>\n",
       "    </tr>\n",
       "    <tr>\n",
       "      <th>5</th>\n",
       "      <td>Cleveland Cavaliers</td>\n",
       "      <td>0</td>\n",
       "      <td>0.305556</td>\n",
       "      <td>NaN</td>\n",
       "      <td>NaN</td>\n",
       "    </tr>\n",
       "    <tr>\n",
       "      <th>8</th>\n",
       "      <td>Detroit Pistons</td>\n",
       "      <td>0</td>\n",
       "      <td>0.333333</td>\n",
       "      <td>NaN</td>\n",
       "      <td>NaN</td>\n",
       "    </tr>\n",
       "    <tr>\n",
       "      <th>9</th>\n",
       "      <td>Golden State Warriors</td>\n",
       "      <td>0</td>\n",
       "      <td>0.235294</td>\n",
       "      <td>NaN</td>\n",
       "      <td>NaN</td>\n",
       "    </tr>\n",
       "    <tr>\n",
       "      <th>17</th>\n",
       "      <td>Minnesota Timberwolves</td>\n",
       "      <td>0</td>\n",
       "      <td>0.250000</td>\n",
       "      <td>NaN</td>\n",
       "      <td>NaN</td>\n",
       "    </tr>\n",
       "    <tr>\n",
       "      <th>19</th>\n",
       "      <td>New York Knicks</td>\n",
       "      <td>0</td>\n",
       "      <td>0.333333</td>\n",
       "      <td>NaN</td>\n",
       "      <td>NaN</td>\n",
       "    </tr>\n",
       "  </tbody>\n",
       "</table>\n",
       "</div>"
      ],
      "text/plain": [
       "                 Home Team  bubble_pre  home_win_pre  bubble_bubble  \\\n",
       "0            Atlanta Hawks           0      0.411765            NaN   \n",
       "3        Charlotte Hornets           0      0.322581            NaN   \n",
       "4            Chicago Bulls           0      0.411765            NaN   \n",
       "5      Cleveland Cavaliers           0      0.305556            NaN   \n",
       "8          Detroit Pistons           0      0.333333            NaN   \n",
       "9    Golden State Warriors           0      0.235294            NaN   \n",
       "17  Minnesota Timberwolves           0      0.250000            NaN   \n",
       "19         New York Knicks           0      0.333333            NaN   \n",
       "\n",
       "    home_win_bubble  \n",
       "0               NaN  \n",
       "3               NaN  \n",
       "4               NaN  \n",
       "5               NaN  \n",
       "8               NaN  \n",
       "9               NaN  \n",
       "17              NaN  \n",
       "19              NaN  "
      ]
     },
     "execution_count": 62,
     "metadata": {},
     "output_type": "execute_result"
    }
   ],
   "source": [
    "# filter out teams that weren't in the bubble\n",
    "no_bubble = perf_by_team.loc[pd.isnull(perf_by_team['home_win_bubble'])]\n",
    "no_bubble"
   ]
  },
  {
   "cell_type": "code",
   "execution_count": 66,
   "metadata": {},
   "outputs": [
    {
     "name": "stderr",
     "output_type": "stream",
     "text": [
      "/Users/matt/anaconda3/envs/bayes/lib/python3.7/site-packages/ipykernel_launcher.py:3: SettingWithCopyWarning: \n",
      "A value is trying to be set on a copy of a slice from a DataFrame.\n",
      "Try using .loc[row_indexer,col_indexer] = value instead\n",
      "\n",
      "See the caveats in the documentation: https://pandas.pydata.org/pandas-docs/stable/user_guide/indexing.html#returning-a-view-versus-a-copy\n",
      "  This is separate from the ipykernel package so we can avoid doing imports until\n"
     ]
    },
    {
     "data": {
      "text/html": [
       "<div>\n",
       "<style scoped>\n",
       "    .dataframe tbody tr th:only-of-type {\n",
       "        vertical-align: middle;\n",
       "    }\n",
       "\n",
       "    .dataframe tbody tr th {\n",
       "        vertical-align: top;\n",
       "    }\n",
       "\n",
       "    .dataframe thead th {\n",
       "        text-align: right;\n",
       "    }\n",
       "</style>\n",
       "<table border=\"1\" class=\"dataframe\">\n",
       "  <thead>\n",
       "    <tr style=\"text-align: right;\">\n",
       "      <th></th>\n",
       "      <th>Home Team</th>\n",
       "      <th>bubble_pre</th>\n",
       "      <th>home_win_pre</th>\n",
       "      <th>bubble_bubble</th>\n",
       "      <th>home_win_bubble</th>\n",
       "      <th>home_win_diff</th>\n",
       "    </tr>\n",
       "  </thead>\n",
       "  <tbody>\n",
       "    <tr>\n",
       "      <th>1</th>\n",
       "      <td>Boston Celtics</td>\n",
       "      <td>0</td>\n",
       "      <td>0.718750</td>\n",
       "      <td>1.0</td>\n",
       "      <td>0.833333</td>\n",
       "      <td>0.114583</td>\n",
       "    </tr>\n",
       "    <tr>\n",
       "      <th>2</th>\n",
       "      <td>Brooklyn Nets</td>\n",
       "      <td>0</td>\n",
       "      <td>0.562500</td>\n",
       "      <td>1.0</td>\n",
       "      <td>0.333333</td>\n",
       "      <td>-0.229167</td>\n",
       "    </tr>\n",
       "    <tr>\n",
       "      <th>6</th>\n",
       "      <td>Dallas Mavericks</td>\n",
       "      <td>0</td>\n",
       "      <td>0.558824</td>\n",
       "      <td>1.0</td>\n",
       "      <td>0.285714</td>\n",
       "      <td>-0.273109</td>\n",
       "    </tr>\n",
       "    <tr>\n",
       "      <th>7</th>\n",
       "      <td>Denver Nuggets</td>\n",
       "      <td>0</td>\n",
       "      <td>0.757576</td>\n",
       "      <td>1.0</td>\n",
       "      <td>0.428571</td>\n",
       "      <td>-0.329004</td>\n",
       "    </tr>\n",
       "    <tr>\n",
       "      <th>10</th>\n",
       "      <td>Houston Rockets</td>\n",
       "      <td>0</td>\n",
       "      <td>0.687500</td>\n",
       "      <td>1.0</td>\n",
       "      <td>0.714286</td>\n",
       "      <td>0.026786</td>\n",
       "    </tr>\n",
       "  </tbody>\n",
       "</table>\n",
       "</div>"
      ],
      "text/plain": [
       "           Home Team  bubble_pre  home_win_pre  bubble_bubble  \\\n",
       "1     Boston Celtics           0      0.718750            1.0   \n",
       "2      Brooklyn Nets           0      0.562500            1.0   \n",
       "6   Dallas Mavericks           0      0.558824            1.0   \n",
       "7     Denver Nuggets           0      0.757576            1.0   \n",
       "10   Houston Rockets           0      0.687500            1.0   \n",
       "\n",
       "    home_win_bubble  home_win_diff  \n",
       "1          0.833333       0.114583  \n",
       "2          0.333333      -0.229167  \n",
       "6          0.285714      -0.273109  \n",
       "7          0.428571      -0.329004  \n",
       "10         0.714286       0.026786  "
      ]
     },
     "execution_count": 66,
     "metadata": {},
     "output_type": "execute_result"
    }
   ],
   "source": [
    "# format by team\n",
    "perf_by_team_clean = perf_by_team.loc[~pd.isnull(perf_by_team['home_win_bubble'])]\n",
    "perf_by_team_clean['home_win_diff'] = perf_by_team_clean['home_win_bubble'] - perf_by_team_clean['home_win_pre']\n",
    "perf_by_team_clean.head()"
   ]
  },
  {
   "cell_type": "code",
   "execution_count": 69,
   "metadata": {},
   "outputs": [
    {
     "data": {
      "text/plain": [
       "<matplotlib.collections.PathCollection at 0x7f8529748a58>"
      ]
     },
     "execution_count": 69,
     "metadata": {},
     "output_type": "execute_result"
    },
    {
     "data": {
      "image/png": "[encoded data removed]",
      "text/plain": [
       "<Figure size 432x288 with 1 Axes>"
      ]
     },
     "metadata": {
      "needs_background": "light"
     },
     "output_type": "display_data"
    }
   ],
   "source": [
    "# visually inspect difference in win percentages by team\n",
    "plt.scatter(perf_by_team_clean['home_win_pre'], perf_by_team_clean['home_win_bubble'])"
   ]
  },
  {
   "cell_type": "code",
   "execution_count": 70,
   "metadata": {},
   "outputs": [
    {
     "name": "stdout",
     "output_type": "stream",
     "text": [
      "1.5537694397220425 0.1277432549211029\n"
     ]
    }
   ],
   "source": [
    "# run a paired t-test\n",
    "tstat, pvalue, df = statsmodels.stats.weightstats.ttest_ind(x1=perf_by_team_clean['home_win_pre'], x2=perf_by_team_clean['home_win_bubble'])\n",
    "print (tstat, pvalue)"
   ]
  },
  {
   "cell_type": "code",
   "execution_count": 71,
   "metadata": {
    "scrolled": true
   },
   "outputs": [
    {
     "name": "stderr",
     "output_type": "stream",
     "text": [
      "/Users/matt/anaconda3/envs/bayes/lib/python3.7/site-packages/ipykernel_launcher.py:2: SettingWithCopyWarning: \n",
      "A value is trying to be set on a copy of a slice from a DataFrame.\n",
      "Try using .loc[row_indexer,col_indexer] = value instead\n",
      "\n",
      "See the caveats in the documentation: https://pandas.pydata.org/pandas-docs/stable/user_guide/indexing.html#returning-a-view-versus-a-copy\n",
      "  \n"
     ]
    },
    {
     "data": {
      "text/html": [
       "<div>\n",
       "<style scoped>\n",
       "    .dataframe tbody tr th:only-of-type {\n",
       "        vertical-align: middle;\n",
       "    }\n",
       "\n",
       "    .dataframe tbody tr th {\n",
       "        vertical-align: top;\n",
       "    }\n",
       "\n",
       "    .dataframe thead th {\n",
       "        text-align: right;\n",
       "    }\n",
       "</style>\n",
       "<table border=\"1\" class=\"dataframe\">\n",
       "  <thead>\n",
       "    <tr style=\"text-align: right;\">\n",
       "      <th></th>\n",
       "      <th>Home Team</th>\n",
       "      <th>bubble_pre</th>\n",
       "      <th>home_win_pre</th>\n",
       "      <th>bubble_bubble</th>\n",
       "      <th>home_win_bubble</th>\n",
       "      <th>home_win_diff</th>\n",
       "      <th>home_win_diff_abs</th>\n",
       "    </tr>\n",
       "  </thead>\n",
       "  <tbody>\n",
       "    <tr>\n",
       "      <th>23</th>\n",
       "      <td>Phoenix Suns</td>\n",
       "      <td>0</td>\n",
       "      <td>0.371429</td>\n",
       "      <td>1.0</td>\n",
       "      <td>1.000000</td>\n",
       "      <td>0.628571</td>\n",
       "      <td>0.628571</td>\n",
       "    </tr>\n",
       "    <tr>\n",
       "      <th>22</th>\n",
       "      <td>Philadelphia 76ers</td>\n",
       "      <td>0</td>\n",
       "      <td>0.935484</td>\n",
       "      <td>1.0</td>\n",
       "      <td>0.333333</td>\n",
       "      <td>-0.602151</td>\n",
       "      <td>0.602151</td>\n",
       "    </tr>\n",
       "    <tr>\n",
       "      <th>29</th>\n",
       "      <td>Washington Wizards</td>\n",
       "      <td>0</td>\n",
       "      <td>0.500000</td>\n",
       "      <td>1.0</td>\n",
       "      <td>0.000000</td>\n",
       "      <td>-0.500000</td>\n",
       "      <td>0.500000</td>\n",
       "    </tr>\n",
       "    <tr>\n",
       "      <th>16</th>\n",
       "      <td>Milwaukee Bucks</td>\n",
       "      <td>0</td>\n",
       "      <td>0.903226</td>\n",
       "      <td>1.0</td>\n",
       "      <td>0.500000</td>\n",
       "      <td>-0.403226</td>\n",
       "      <td>0.403226</td>\n",
       "    </tr>\n",
       "    <tr>\n",
       "      <th>7</th>\n",
       "      <td>Denver Nuggets</td>\n",
       "      <td>0</td>\n",
       "      <td>0.757576</td>\n",
       "      <td>1.0</td>\n",
       "      <td>0.428571</td>\n",
       "      <td>-0.329004</td>\n",
       "      <td>0.329004</td>\n",
       "    </tr>\n",
       "    <tr>\n",
       "      <th>15</th>\n",
       "      <td>Miami Heat</td>\n",
       "      <td>0</td>\n",
       "      <td>0.843750</td>\n",
       "      <td>1.0</td>\n",
       "      <td>0.555556</td>\n",
       "      <td>-0.288194</td>\n",
       "      <td>0.288194</td>\n",
       "    </tr>\n",
       "    <tr>\n",
       "      <th>6</th>\n",
       "      <td>Dallas Mavericks</td>\n",
       "      <td>0</td>\n",
       "      <td>0.558824</td>\n",
       "      <td>1.0</td>\n",
       "      <td>0.285714</td>\n",
       "      <td>-0.273109</td>\n",
       "      <td>0.273109</td>\n",
       "    </tr>\n",
       "    <tr>\n",
       "      <th>20</th>\n",
       "      <td>Oklahoma City Thunder</td>\n",
       "      <td>0</td>\n",
       "      <td>0.606061</td>\n",
       "      <td>1.0</td>\n",
       "      <td>0.857143</td>\n",
       "      <td>0.251082</td>\n",
       "      <td>0.251082</td>\n",
       "    </tr>\n",
       "    <tr>\n",
       "      <th>2</th>\n",
       "      <td>Brooklyn Nets</td>\n",
       "      <td>0</td>\n",
       "      <td>0.562500</td>\n",
       "      <td>1.0</td>\n",
       "      <td>0.333333</td>\n",
       "      <td>-0.229167</td>\n",
       "      <td>0.229167</td>\n",
       "    </tr>\n",
       "    <tr>\n",
       "      <th>26</th>\n",
       "      <td>San Antonio Spurs</td>\n",
       "      <td>0</td>\n",
       "      <td>0.533333</td>\n",
       "      <td>1.0</td>\n",
       "      <td>0.750000</td>\n",
       "      <td>0.216667</td>\n",
       "      <td>0.216667</td>\n",
       "    </tr>\n",
       "  </tbody>\n",
       "</table>\n",
       "</div>"
      ],
      "text/plain": [
       "                Home Team  bubble_pre  home_win_pre  bubble_bubble  \\\n",
       "23           Phoenix Suns           0      0.371429            1.0   \n",
       "22     Philadelphia 76ers           0      0.935484            1.0   \n",
       "29     Washington Wizards           0      0.500000            1.0   \n",
       "16        Milwaukee Bucks           0      0.903226            1.0   \n",
       "7          Denver Nuggets           0      0.757576            1.0   \n",
       "15             Miami Heat           0      0.843750            1.0   \n",
       "6        Dallas Mavericks           0      0.558824            1.0   \n",
       "20  Oklahoma City Thunder           0      0.606061            1.0   \n",
       "2           Brooklyn Nets           0      0.562500            1.0   \n",
       "26      San Antonio Spurs           0      0.533333            1.0   \n",
       "\n",
       "    home_win_bubble  home_win_diff  home_win_diff_abs  \n",
       "23         1.000000       0.628571           0.628571  \n",
       "22         0.333333      -0.602151           0.602151  \n",
       "29         0.000000      -0.500000           0.500000  \n",
       "16         0.500000      -0.403226           0.403226  \n",
       "7          0.428571      -0.329004           0.329004  \n",
       "15         0.555556      -0.288194           0.288194  \n",
       "6          0.285714      -0.273109           0.273109  \n",
       "20         0.857143       0.251082           0.251082  \n",
       "2          0.333333      -0.229167           0.229167  \n",
       "26         0.750000       0.216667           0.216667  "
      ]
     },
     "execution_count": 71,
     "metadata": {},
     "output_type": "execute_result"
    }
   ],
   "source": [
    "# find which teams did exceptionally different\n",
    "perf_by_team_clean['home_win_diff_abs'] = [abs(x) for x in perf_by_team_clean['home_win_diff']]\n",
    "perf_by_team_clean.sort_values('home_win_diff_abs', ascending=False).head(10)"
   ]
  },
  {
   "cell_type": "markdown",
   "metadata": {},
   "source": [
    "## Repeat paired t-test but filter out playoffs"
   ]
  },
  {
   "cell_type": "code",
   "execution_count": 72,
   "metadata": {},
   "outputs": [
    {
     "data": {
      "text/html": [
       "<div>\n",
       "<style scoped>\n",
       "    .dataframe tbody tr th:only-of-type {\n",
       "        vertical-align: middle;\n",
       "    }\n",
       "\n",
       "    .dataframe tbody tr th {\n",
       "        vertical-align: top;\n",
       "    }\n",
       "\n",
       "    .dataframe thead th {\n",
       "        text-align: right;\n",
       "    }\n",
       "</style>\n",
       "<table border=\"1\" class=\"dataframe\">\n",
       "  <thead>\n",
       "    <tr style=\"text-align: right;\">\n",
       "      <th></th>\n",
       "      <th>Home Team</th>\n",
       "      <th>bubble_pre</th>\n",
       "      <th>home_win_pre</th>\n",
       "      <th>bubble_bubble</th>\n",
       "      <th>home_win_bubble</th>\n",
       "    </tr>\n",
       "  </thead>\n",
       "  <tbody>\n",
       "    <tr>\n",
       "      <th>0</th>\n",
       "      <td>Atlanta Hawks</td>\n",
       "      <td>0</td>\n",
       "      <td>0.411765</td>\n",
       "      <td>NaN</td>\n",
       "      <td>NaN</td>\n",
       "    </tr>\n",
       "    <tr>\n",
       "      <th>1</th>\n",
       "      <td>Boston Celtics</td>\n",
       "      <td>0</td>\n",
       "      <td>0.718750</td>\n",
       "      <td>1.0</td>\n",
       "      <td>0.75</td>\n",
       "    </tr>\n",
       "    <tr>\n",
       "      <th>2</th>\n",
       "      <td>Brooklyn Nets</td>\n",
       "      <td>0</td>\n",
       "      <td>0.562500</td>\n",
       "      <td>1.0</td>\n",
       "      <td>0.50</td>\n",
       "    </tr>\n",
       "    <tr>\n",
       "      <th>3</th>\n",
       "      <td>Charlotte Hornets</td>\n",
       "      <td>0</td>\n",
       "      <td>0.322581</td>\n",
       "      <td>NaN</td>\n",
       "      <td>NaN</td>\n",
       "    </tr>\n",
       "    <tr>\n",
       "      <th>4</th>\n",
       "      <td>Chicago Bulls</td>\n",
       "      <td>0</td>\n",
       "      <td>0.411765</td>\n",
       "      <td>NaN</td>\n",
       "      <td>NaN</td>\n",
       "    </tr>\n",
       "  </tbody>\n",
       "</table>\n",
       "</div>"
      ],
      "text/plain": [
       "           Home Team  bubble_pre  home_win_pre  bubble_bubble  home_win_bubble\n",
       "0      Atlanta Hawks           0      0.411765            NaN              NaN\n",
       "1     Boston Celtics           0      0.718750            1.0             0.75\n",
       "2      Brooklyn Nets           0      0.562500            1.0             0.50\n",
       "3  Charlotte Hornets           0      0.322581            NaN              NaN\n",
       "4      Chicago Bulls           0      0.411765            NaN              NaN"
      ]
     },
     "execution_count": 72,
     "metadata": {},
     "output_type": "execute_result"
    }
   ],
   "source": [
    "# create columns for pre-bubble and post-bubble wins\n",
    "schedule_by_team = schedule.loc[schedule['playoff']==0].groupby(['Home Team', 'bubble']).agg({'home_win':'mean'}).reset_index()\n",
    "schedule_by_team_pre = schedule_by_team.loc[schedule_by_team['bubble']==0]\n",
    "schedule_by_team_bubble = schedule_by_team.loc[schedule_by_team['bubble']==1]\n",
    "perf_by_team = pd.merge(schedule_by_team_pre, schedule_by_team_bubble, on='Home Team', how='outer', suffixes=['_pre', '_bubble'])\n",
    "perf_by_team.head()"
   ]
  },
  {
   "cell_type": "code",
   "execution_count": 73,
   "metadata": {},
   "outputs": [
    {
     "data": {
      "text/html": [
       "<div>\n",
       "<style scoped>\n",
       "    .dataframe tbody tr th:only-of-type {\n",
       "        vertical-align: middle;\n",
       "    }\n",
       "\n",
       "    .dataframe tbody tr th {\n",
       "        vertical-align: top;\n",
       "    }\n",
       "\n",
       "    .dataframe thead th {\n",
       "        text-align: right;\n",
       "    }\n",
       "</style>\n",
       "<table border=\"1\" class=\"dataframe\">\n",
       "  <thead>\n",
       "    <tr style=\"text-align: right;\">\n",
       "      <th></th>\n",
       "      <th>Home Team</th>\n",
       "      <th>bubble_pre</th>\n",
       "      <th>home_win_pre</th>\n",
       "      <th>bubble_bubble</th>\n",
       "      <th>home_win_bubble</th>\n",
       "    </tr>\n",
       "  </thead>\n",
       "  <tbody>\n",
       "    <tr>\n",
       "      <th>0</th>\n",
       "      <td>Atlanta Hawks</td>\n",
       "      <td>0</td>\n",
       "      <td>0.411765</td>\n",
       "      <td>NaN</td>\n",
       "      <td>NaN</td>\n",
       "    </tr>\n",
       "    <tr>\n",
       "      <th>3</th>\n",
       "      <td>Charlotte Hornets</td>\n",
       "      <td>0</td>\n",
       "      <td>0.322581</td>\n",
       "      <td>NaN</td>\n",
       "      <td>NaN</td>\n",
       "    </tr>\n",
       "    <tr>\n",
       "      <th>4</th>\n",
       "      <td>Chicago Bulls</td>\n",
       "      <td>0</td>\n",
       "      <td>0.411765</td>\n",
       "      <td>NaN</td>\n",
       "      <td>NaN</td>\n",
       "    </tr>\n",
       "    <tr>\n",
       "      <th>5</th>\n",
       "      <td>Cleveland Cavaliers</td>\n",
       "      <td>0</td>\n",
       "      <td>0.305556</td>\n",
       "      <td>NaN</td>\n",
       "      <td>NaN</td>\n",
       "    </tr>\n",
       "    <tr>\n",
       "      <th>8</th>\n",
       "      <td>Detroit Pistons</td>\n",
       "      <td>0</td>\n",
       "      <td>0.333333</td>\n",
       "      <td>NaN</td>\n",
       "      <td>NaN</td>\n",
       "    </tr>\n",
       "    <tr>\n",
       "      <th>9</th>\n",
       "      <td>Golden State Warriors</td>\n",
       "      <td>0</td>\n",
       "      <td>0.235294</td>\n",
       "      <td>NaN</td>\n",
       "      <td>NaN</td>\n",
       "    </tr>\n",
       "    <tr>\n",
       "      <th>17</th>\n",
       "      <td>Minnesota Timberwolves</td>\n",
       "      <td>0</td>\n",
       "      <td>0.250000</td>\n",
       "      <td>NaN</td>\n",
       "      <td>NaN</td>\n",
       "    </tr>\n",
       "    <tr>\n",
       "      <th>19</th>\n",
       "      <td>New York Knicks</td>\n",
       "      <td>0</td>\n",
       "      <td>0.333333</td>\n",
       "      <td>NaN</td>\n",
       "      <td>NaN</td>\n",
       "    </tr>\n",
       "  </tbody>\n",
       "</table>\n",
       "</div>"
      ],
      "text/plain": [
       "                 Home Team  bubble_pre  home_win_pre  bubble_bubble  \\\n",
       "0            Atlanta Hawks           0      0.411765            NaN   \n",
       "3        Charlotte Hornets           0      0.322581            NaN   \n",
       "4            Chicago Bulls           0      0.411765            NaN   \n",
       "5      Cleveland Cavaliers           0      0.305556            NaN   \n",
       "8          Detroit Pistons           0      0.333333            NaN   \n",
       "9    Golden State Warriors           0      0.235294            NaN   \n",
       "17  Minnesota Timberwolves           0      0.250000            NaN   \n",
       "19         New York Knicks           0      0.333333            NaN   \n",
       "\n",
       "    home_win_bubble  \n",
       "0               NaN  \n",
       "3               NaN  \n",
       "4               NaN  \n",
       "5               NaN  \n",
       "8               NaN  \n",
       "9               NaN  \n",
       "17              NaN  \n",
       "19              NaN  "
      ]
     },
     "execution_count": 73,
     "metadata": {},
     "output_type": "execute_result"
    }
   ],
   "source": [
    "# filter out teams that weren't in the bubble\n",
    "no_bubble = perf_by_team.loc[pd.isnull(perf_by_team['home_win_bubble'])]\n",
    "no_bubble"
   ]
  },
  {
   "cell_type": "code",
   "execution_count": 74,
   "metadata": {},
   "outputs": [
    {
     "name": "stderr",
     "output_type": "stream",
     "text": [
      "/Users/matt/anaconda3/envs/bayes/lib/python3.7/site-packages/ipykernel_launcher.py:3: SettingWithCopyWarning: \n",
      "A value is trying to be set on a copy of a slice from a DataFrame.\n",
      "Try using .loc[row_indexer,col_indexer] = value instead\n",
      "\n",
      "See the caveats in the documentation: https://pandas.pydata.org/pandas-docs/stable/user_guide/indexing.html#returning-a-view-versus-a-copy\n",
      "  This is separate from the ipykernel package so we can avoid doing imports until\n"
     ]
    },
    {
     "data": {
      "text/html": [
       "<div>\n",
       "<style scoped>\n",
       "    .dataframe tbody tr th:only-of-type {\n",
       "        vertical-align: middle;\n",
       "    }\n",
       "\n",
       "    .dataframe tbody tr th {\n",
       "        vertical-align: top;\n",
       "    }\n",
       "\n",
       "    .dataframe thead th {\n",
       "        text-align: right;\n",
       "    }\n",
       "</style>\n",
       "<table border=\"1\" class=\"dataframe\">\n",
       "  <thead>\n",
       "    <tr style=\"text-align: right;\">\n",
       "      <th></th>\n",
       "      <th>Home Team</th>\n",
       "      <th>bubble_pre</th>\n",
       "      <th>home_win_pre</th>\n",
       "      <th>bubble_bubble</th>\n",
       "      <th>home_win_bubble</th>\n",
       "      <th>home_win_diff</th>\n",
       "    </tr>\n",
       "  </thead>\n",
       "  <tbody>\n",
       "    <tr>\n",
       "      <th>1</th>\n",
       "      <td>Boston Celtics</td>\n",
       "      <td>0</td>\n",
       "      <td>0.718750</td>\n",
       "      <td>1.0</td>\n",
       "      <td>0.75</td>\n",
       "      <td>0.031250</td>\n",
       "    </tr>\n",
       "    <tr>\n",
       "      <th>2</th>\n",
       "      <td>Brooklyn Nets</td>\n",
       "      <td>0</td>\n",
       "      <td>0.562500</td>\n",
       "      <td>1.0</td>\n",
       "      <td>0.50</td>\n",
       "      <td>-0.062500</td>\n",
       "    </tr>\n",
       "    <tr>\n",
       "      <th>6</th>\n",
       "      <td>Dallas Mavericks</td>\n",
       "      <td>0</td>\n",
       "      <td>0.558824</td>\n",
       "      <td>1.0</td>\n",
       "      <td>0.25</td>\n",
       "      <td>-0.308824</td>\n",
       "    </tr>\n",
       "    <tr>\n",
       "      <th>7</th>\n",
       "      <td>Denver Nuggets</td>\n",
       "      <td>0</td>\n",
       "      <td>0.757576</td>\n",
       "      <td>1.0</td>\n",
       "      <td>0.25</td>\n",
       "      <td>-0.507576</td>\n",
       "    </tr>\n",
       "    <tr>\n",
       "      <th>10</th>\n",
       "      <td>Houston Rockets</td>\n",
       "      <td>0</td>\n",
       "      <td>0.687500</td>\n",
       "      <td>1.0</td>\n",
       "      <td>0.50</td>\n",
       "      <td>-0.187500</td>\n",
       "    </tr>\n",
       "  </tbody>\n",
       "</table>\n",
       "</div>"
      ],
      "text/plain": [
       "           Home Team  bubble_pre  home_win_pre  bubble_bubble  \\\n",
       "1     Boston Celtics           0      0.718750            1.0   \n",
       "2      Brooklyn Nets           0      0.562500            1.0   \n",
       "6   Dallas Mavericks           0      0.558824            1.0   \n",
       "7     Denver Nuggets           0      0.757576            1.0   \n",
       "10   Houston Rockets           0      0.687500            1.0   \n",
       "\n",
       "    home_win_bubble  home_win_diff  \n",
       "1              0.75       0.031250  \n",
       "2              0.50      -0.062500  \n",
       "6              0.25      -0.308824  \n",
       "7              0.25      -0.507576  \n",
       "10             0.50      -0.187500  "
      ]
     },
     "execution_count": 74,
     "metadata": {},
     "output_type": "execute_result"
    }
   ],
   "source": [
    "# format by team\n",
    "perf_by_team_clean = perf_by_team.loc[~pd.isnull(perf_by_team['home_win_bubble'])]\n",
    "perf_by_team_clean['home_win_diff'] = perf_by_team_clean['home_win_bubble'] - perf_by_team_clean['home_win_pre']\n",
    "perf_by_team_clean.head()"
   ]
  },
  {
   "cell_type": "code",
   "execution_count": 75,
   "metadata": {},
   "outputs": [
    {
     "data": {
      "text/plain": [
       "<matplotlib.collections.PathCollection at 0x7f8528c546a0>"
      ]
     },
     "execution_count": 75,
     "metadata": {},
     "output_type": "execute_result"
    },
    {
     "data": {
      "image/png": "[encoded data removed]",
      "text/plain": [
       "<Figure size 432x288 with 1 Axes>"
      ]
     },
     "metadata": {
      "needs_background": "light"
     },
     "output_type": "display_data"
    }
   ],
   "source": [
    "# visually inspect difference in win percentages by team\n",
    "plt.scatter(perf_by_team_clean['home_win_pre'], perf_by_team_clean['home_win_bubble'])"
   ]
  },
  {
   "cell_type": "code",
   "execution_count": 76,
   "metadata": {},
   "outputs": [
    {
     "name": "stdout",
     "output_type": "stream",
     "text": [
      "1.3742230832310598 0.17666175649188454\n"
     ]
    }
   ],
   "source": [
    "# run a paired t-test\n",
    "tstat, pvalue, df = statsmodels.stats.weightstats.ttest_ind(x1=perf_by_team_clean['home_win_pre'], x2=perf_by_team_clean['home_win_bubble'])\n",
    "print (tstat, pvalue)"
   ]
  },
  {
   "cell_type": "code",
   "execution_count": 77,
   "metadata": {
    "scrolled": true
   },
   "outputs": [
    {
     "name": "stderr",
     "output_type": "stream",
     "text": [
      "/Users/matt/anaconda3/envs/bayes/lib/python3.7/site-packages/ipykernel_launcher.py:2: SettingWithCopyWarning: \n",
      "A value is trying to be set on a copy of a slice from a DataFrame.\n",
      "Try using .loc[row_indexer,col_indexer] = value instead\n",
      "\n",
      "See the caveats in the documentation: https://pandas.pydata.org/pandas-docs/stable/user_guide/indexing.html#returning-a-view-versus-a-copy\n",
      "  \n"
     ]
    },
    {
     "data": {
      "text/html": [
       "<div>\n",
       "<style scoped>\n",
       "    .dataframe tbody tr th:only-of-type {\n",
       "        vertical-align: middle;\n",
       "    }\n",
       "\n",
       "    .dataframe tbody tr th {\n",
       "        vertical-align: top;\n",
       "    }\n",
       "\n",
       "    .dataframe thead th {\n",
       "        text-align: right;\n",
       "    }\n",
       "</style>\n",
       "<table border=\"1\" class=\"dataframe\">\n",
       "  <thead>\n",
       "    <tr style=\"text-align: right;\">\n",
       "      <th></th>\n",
       "      <th>Home Team</th>\n",
       "      <th>bubble_pre</th>\n",
       "      <th>home_win_pre</th>\n",
       "      <th>bubble_bubble</th>\n",
       "      <th>home_win_bubble</th>\n",
       "      <th>home_win_diff</th>\n",
       "      <th>home_win_diff_abs</th>\n",
       "    </tr>\n",
       "  </thead>\n",
       "  <tbody>\n",
       "    <tr>\n",
       "      <th>23</th>\n",
       "      <td>Phoenix Suns</td>\n",
       "      <td>0</td>\n",
       "      <td>0.371429</td>\n",
       "      <td>1.0</td>\n",
       "      <td>1.00</td>\n",
       "      <td>0.628571</td>\n",
       "      <td>0.628571</td>\n",
       "    </tr>\n",
       "    <tr>\n",
       "      <th>7</th>\n",
       "      <td>Denver Nuggets</td>\n",
       "      <td>0</td>\n",
       "      <td>0.757576</td>\n",
       "      <td>1.0</td>\n",
       "      <td>0.25</td>\n",
       "      <td>-0.507576</td>\n",
       "      <td>0.507576</td>\n",
       "    </tr>\n",
       "    <tr>\n",
       "      <th>29</th>\n",
       "      <td>Washington Wizards</td>\n",
       "      <td>0</td>\n",
       "      <td>0.500000</td>\n",
       "      <td>1.0</td>\n",
       "      <td>0.00</td>\n",
       "      <td>-0.500000</td>\n",
       "      <td>0.500000</td>\n",
       "    </tr>\n",
       "    <tr>\n",
       "      <th>22</th>\n",
       "      <td>Philadelphia 76ers</td>\n",
       "      <td>0</td>\n",
       "      <td>0.935484</td>\n",
       "      <td>1.0</td>\n",
       "      <td>0.50</td>\n",
       "      <td>-0.435484</td>\n",
       "      <td>0.435484</td>\n",
       "    </tr>\n",
       "    <tr>\n",
       "      <th>16</th>\n",
       "      <td>Milwaukee Bucks</td>\n",
       "      <td>0</td>\n",
       "      <td>0.903226</td>\n",
       "      <td>1.0</td>\n",
       "      <td>0.50</td>\n",
       "      <td>-0.403226</td>\n",
       "      <td>0.403226</td>\n",
       "    </tr>\n",
       "    <tr>\n",
       "      <th>11</th>\n",
       "      <td>Indiana Pacers</td>\n",
       "      <td>0</td>\n",
       "      <td>0.656250</td>\n",
       "      <td>1.0</td>\n",
       "      <td>1.00</td>\n",
       "      <td>0.343750</td>\n",
       "      <td>0.343750</td>\n",
       "    </tr>\n",
       "    <tr>\n",
       "      <th>15</th>\n",
       "      <td>Miami Heat</td>\n",
       "      <td>0</td>\n",
       "      <td>0.843750</td>\n",
       "      <td>1.0</td>\n",
       "      <td>0.50</td>\n",
       "      <td>-0.343750</td>\n",
       "      <td>0.343750</td>\n",
       "    </tr>\n",
       "    <tr>\n",
       "      <th>6</th>\n",
       "      <td>Dallas Mavericks</td>\n",
       "      <td>0</td>\n",
       "      <td>0.558824</td>\n",
       "      <td>1.0</td>\n",
       "      <td>0.25</td>\n",
       "      <td>-0.308824</td>\n",
       "      <td>0.308824</td>\n",
       "    </tr>\n",
       "    <tr>\n",
       "      <th>12</th>\n",
       "      <td>Los Angeles Clippers</td>\n",
       "      <td>0</td>\n",
       "      <td>0.781250</td>\n",
       "      <td>1.0</td>\n",
       "      <td>0.50</td>\n",
       "      <td>-0.281250</td>\n",
       "      <td>0.281250</td>\n",
       "    </tr>\n",
       "    <tr>\n",
       "      <th>13</th>\n",
       "      <td>Los Angeles Lakers</td>\n",
       "      <td>0</td>\n",
       "      <td>0.741935</td>\n",
       "      <td>1.0</td>\n",
       "      <td>0.50</td>\n",
       "      <td>-0.241935</td>\n",
       "      <td>0.241935</td>\n",
       "    </tr>\n",
       "  </tbody>\n",
       "</table>\n",
       "</div>"
      ],
      "text/plain": [
       "               Home Team  bubble_pre  home_win_pre  bubble_bubble  \\\n",
       "23          Phoenix Suns           0      0.371429            1.0   \n",
       "7         Denver Nuggets           0      0.757576            1.0   \n",
       "29    Washington Wizards           0      0.500000            1.0   \n",
       "22    Philadelphia 76ers           0      0.935484            1.0   \n",
       "16       Milwaukee Bucks           0      0.903226            1.0   \n",
       "11        Indiana Pacers           0      0.656250            1.0   \n",
       "15            Miami Heat           0      0.843750            1.0   \n",
       "6       Dallas Mavericks           0      0.558824            1.0   \n",
       "12  Los Angeles Clippers           0      0.781250            1.0   \n",
       "13    Los Angeles Lakers           0      0.741935            1.0   \n",
       "\n",
       "    home_win_bubble  home_win_diff  home_win_diff_abs  \n",
       "23             1.00       0.628571           0.628571  \n",
       "7              0.25      -0.507576           0.507576  \n",
       "29             0.00      -0.500000           0.500000  \n",
       "22             0.50      -0.435484           0.435484  \n",
       "16             0.50      -0.403226           0.403226  \n",
       "11             1.00       0.343750           0.343750  \n",
       "15             0.50      -0.343750           0.343750  \n",
       "6              0.25      -0.308824           0.308824  \n",
       "12             0.50      -0.281250           0.281250  \n",
       "13             0.50      -0.241935           0.241935  "
      ]
     },
     "execution_count": 77,
     "metadata": {},
     "output_type": "execute_result"
    }
   ],
   "source": [
    "# find which teams did exceptionally different\n",
    "perf_by_team_clean['home_win_diff_abs'] = [abs(x) for x in perf_by_team_clean['home_win_diff']]\n",
    "perf_by_team_clean.sort_values('home_win_diff_abs', ascending=False).head(10)"
   ]
  },
  {
   "cell_type": "markdown",
   "metadata": {},
   "source": [
    "## Conclusion\n",
    "\n",
    "When looking at home win percentages at an aggregate level, there doesn't appear to be any difference in the bubble.  When looking at a team-level, however, there appears to be some differences, but those can likely be caused by random noise given the low amount of games played in the bubble"
   ]
  }
 ],
 "metadata": {
  "kernelspec": {
   "display_name": "Python 3",
   "language": "python",
   "name": "python3"
  },
  "language_info": {
   "codemirror_mode": {
    "name": "ipython",
    "version": 3
   },
   "file_extension": ".py",
   "mimetype": "text/x-python",
   "name": "python",
   "nbconvert_exporter": "python",
   "pygments_lexer": "ipython3",
   "version": "3.7.3"
  }
 },
 "nbformat": 4,
 "nbformat_minor": 2
}
